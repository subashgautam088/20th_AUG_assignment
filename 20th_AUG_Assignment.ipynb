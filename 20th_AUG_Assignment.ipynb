{
 "cells": [
  {
   "cell_type": "markdown",
   "id": "510083ab-aa9f-47fb-920e-2e07ee3ff755",
   "metadata": {},
   "source": [
    "20th_AUG_ASSIGNMENT"
   ]
  },
  {
   "cell_type": "code",
   "execution_count": 1,
   "id": "f2f7aa36-c328-4769-87ba-fc977315f14f",
   "metadata": {},
   "outputs": [
    {
     "name": "stdout",
     "output_type": "stream",
     "text": [
      "dlrow olleH\n"
     ]
    }
   ],
   "source": [
    "##  1 Write a program to reverse a string.\n",
    "string1 = \"Hello world\"\n",
    "print(string1[::-1])"
   ]
  },
  {
   "cell_type": "code",
   "execution_count": 2,
   "id": "82be8d39-335b-4502-a82b-4e6f213c7760",
   "metadata": {},
   "outputs": [
    {
     "name": "stdout",
     "output_type": "stream",
     "text": [
      "RACER is not a palindrome.\n"
     ]
    }
   ],
   "source": [
    "##  2 Check if a string is a palindrome.\n",
    "string2 = \"RACER\"\n",
    "if string2 == string2[::-1]:\n",
    "  print(f\"{string2} is a palindrome.\")\n",
    "else:\n",
    "  print(f\"{string2} is not a palindrome.\")"
   ]
  },
  {
   "cell_type": "code",
   "execution_count": 3,
   "id": "6d697fd3-1d1a-4c07-aacf-252b8da69d29",
   "metadata": {},
   "outputs": [
    {
     "name": "stdout",
     "output_type": "stream",
     "text": [
      "HELLO DUNIYA\n"
     ]
    }
   ],
   "source": [
    "##  3 Convert a string to uppercase.\n",
    "string3 = \"hello duniya\"\n",
    "print(string3.upper())"
   ]
  },
  {
   "cell_type": "code",
   "execution_count": 4,
   "id": "5eaa6347-5bf2-4f00-82c9-508d043877f0",
   "metadata": {},
   "outputs": [
    {
     "name": "stdout",
     "output_type": "stream",
     "text": [
      "hello duniya\n"
     ]
    }
   ],
   "source": [
    "##  4 Convert a string to lowercase.\n",
    "string4 = \"HELLO DuniYA\"\n",
    "print(string4.lower())"
   ]
  },
  {
   "cell_type": "code",
   "execution_count": 5,
   "id": "d26beebd-5f0e-40bf-8317-314ab7bbf668",
   "metadata": {},
   "outputs": [
    {
     "name": "stdout",
     "output_type": "stream",
     "text": [
      "Number of vowels in Hello I am a new student guy in pwskills is 11.\n"
     ]
    }
   ],
   "source": [
    "##  5 Count the number of vowels in a string.\n",
    "string5 = \"Hello I am a new student guy in pwskills\"\n",
    "vowels = \"AEIOUaeiou\"\n",
    "vow_count = 0\n",
    "for char in string5:\n",
    "  if char in vowels:\n",
    "    vow_count += 1\n",
    "print(f\"Number of vowels in {string5} is {vow_count}.\")"
   ]
  },
  {
   "cell_type": "code",
   "execution_count": 6,
   "id": "f8bac19c-1117-46b9-a543-78a70a49d042",
   "metadata": {},
   "outputs": [
    {
     "name": "stdout",
     "output_type": "stream",
     "text": [
      "Number of consonants in Hello I am a new student guy in pwskills is 29.\n"
     ]
    }
   ],
   "source": [
    "##   6 Count the number of consonants in a string.\n",
    "string6 = \"Hello I am a new student guy in pwskills\"\n",
    "vowels = \"AEIOUaeiou\"\n",
    "cons_count = 0\n",
    "for char in string6:\n",
    "  if char not in vowels:\n",
    "    cons_count +=1\n",
    "print(f\"Number of consonants in {string6} is {cons_count}.\")"
   ]
  },
  {
   "cell_type": "code",
   "execution_count": 7,
   "id": "fc1e894c-285a-445f-b454-af5b0cb5365e",
   "metadata": {},
   "outputs": [
    {
     "name": "stdout",
     "output_type": "stream",
     "text": [
      "HelloIamanewstudentguyinpwskills\n"
     ]
    }
   ],
   "source": [
    "##  7 Remove all whitespaces from a string.\n",
    "string7 = \"Hello I am a new student guy in pwskills\"\n",
    "print(string7.replace(\" \",\"\"))"
   ]
  },
  {
   "cell_type": "code",
   "execution_count": 8,
   "id": "fc88c80a-80ba-4ab2-b6ae-a3bdeced2b4c",
   "metadata": {},
   "outputs": [
    {
     "name": "stdout",
     "output_type": "stream",
     "text": [
      "Length of 'pwskills student are coder..' is 28.\n"
     ]
    }
   ],
   "source": [
    "##  8 Find the length of a string without using the `len()` function.\n",
    "string8 = \"pwskills student are coder..\"\n",
    "length = 0\n",
    "for character in string8:\n",
    "  length += 1\n",
    "print(f\"Length of '{string8}' is {length}.\")"
   ]
  },
  {
   "cell_type": "code",
   "execution_count": 9,
   "id": "6a8b5445-ccf7-4d76-a658-b0c22f982cb7",
   "metadata": {},
   "outputs": [
    {
     "name": "stdout",
     "output_type": "stream",
     "text": [
      "The string contains the word 'example'.\n"
     ]
    }
   ],
   "source": [
    "##  9 Check if a string contains a specific word.\n",
    "string9 = \"Hello, World! This is an example.\"\n",
    "specific_word = \"example\"\n",
    "\n",
    "if specific_word in string9:\n",
    "    print(f\"The string contains the word '{specific_word}'.\")\n",
    "else:\n",
    "    print(f\"The string does not contain the word '{specific_word}'.\")\n"
   ]
  },
  {
   "cell_type": "code",
   "execution_count": 10,
   "id": "fd17b5f7-bba1-4823-b7e7-e72142cc1364",
   "metadata": {},
   "outputs": [
    {
     "name": "stdout",
     "output_type": "stream",
     "text": [
      "Namaste! pwskills world.\n"
     ]
    }
   ],
   "source": [
    "##  10 Replace a word in a string with another word.\n",
    "string10 = \"Hello! pwskills world.\"\n",
    "print(string10.replace(\"Hello\",\"Namaste\"))"
   ]
  },
  {
   "cell_type": "code",
   "execution_count": 11,
   "id": "aaa1934f-2dee-4095-bc4d-36107e27b145",
   "metadata": {},
   "outputs": [
    {
     "name": "stdout",
     "output_type": "stream",
     "text": [
      "The word 'student' occurs 3 times in the string.\n"
     ]
    }
   ],
   "source": [
    "##  11 Count the occurrences of a word in a string.\n",
    "string11 = \"I am a student and student are the future of the counry and student are backbone of the country.\"\n",
    "count = 0\n",
    "for word in string11.split():\n",
    "    if word == \"student\":\n",
    "        count += 1\n",
    "print(f\"The word 'student' occurs {count} times in the string.\")"
   ]
  },
  {
   "cell_type": "code",
   "execution_count": 31,
   "id": "d0dadbc4-5825-4ae5-b93e-b3b3a3177991",
   "metadata": {},
   "outputs": [
    {
     "name": "stdout",
     "output_type": "stream",
     "text": [
      "student occur at the position  7\n"
     ]
    }
   ],
   "source": [
    "##  12 Find the first occurrence of a word in a string.\n",
    "string12 = \"I am a student and student are the future of the counry and student are backbone of the country.\"\n",
    "specific_word = \"student\"\n",
    "print(specific_word,\"occur at the position \",string12.find(\"student\"))"
   ]
  },
  {
   "cell_type": "code",
   "execution_count": 13,
   "id": "26a6a6b5-5756-484c-a420-0397c2200c8b",
   "metadata": {},
   "outputs": [
    {
     "name": "stdout",
     "output_type": "stream",
     "text": [
      "student occur at the position  60\n"
     ]
    }
   ],
   "source": [
    "##  13 Find the last occurrence of a word in a string.\n",
    "string13 = \"I am a student and student are the future of the counry and student are backbone of the country.\"\n",
    "specific_word = \"student\"\n",
    "print(specific_word,\"occur at the position \",string13.rfind(\"student\"))\n"
   ]
  },
  {
   "cell_type": "code",
   "execution_count": 14,
   "id": "26316ffd-4085-4560-b5a7-a7f1e1a36976",
   "metadata": {},
   "outputs": [
    {
     "name": "stdout",
     "output_type": "stream",
     "text": [
      "['Splitting', 'a', 'string', 'into', 'a', 'list', 'of', 'words']\n"
     ]
    }
   ],
   "source": [
    "##  14 Split a string into a list of words.\n",
    "string14 = \"Splitting a string into a list of words\"\n",
    "print(string14.split())  # Split() use to split the string into a lsit of words."
   ]
  },
  {
   "cell_type": "code",
   "execution_count": 15,
   "id": "4b334472-93ed-48cd-83d2-afca6779893a",
   "metadata": {},
   "outputs": [
    {
     "name": "stdout",
     "output_type": "stream",
     "text": [
      "Hello World! This is an example.\n"
     ]
    }
   ],
   "source": [
    "##  15 Join a list of words into a string.\n",
    "word_list = ['Hello', 'World!', 'This', 'is', 'an', 'example.']\n",
    "\n",
    "# Join the list of words into a string using a space as the separator\n",
    "output_string = ' '.join(word_list)\n",
    "\n",
    "print(output_string)"
   ]
  },
  {
   "cell_type": "code",
   "execution_count": 16,
   "id": "d34453f3-ee17-4395-9f52-55d618161872",
   "metadata": {},
   "outputs": [
    {
     "name": "stdout",
     "output_type": "stream",
     "text": [
      "Replacing_spaces_with_underscores.\n"
     ]
    }
   ],
   "source": [
    "##  16 Convert a string where words are separated by spaces to one where words are separated by underscores.\n",
    "string16 = \"Replacing spaces with underscores.\"\n",
    "print(string16.replace(\" \",\"_\"))"
   ]
  },
  {
   "cell_type": "code",
   "execution_count": 19,
   "id": "296b8d1e-27be-492a-a418-c0ee98d0e9e9",
   "metadata": {},
   "outputs": [
    {
     "name": "stdout",
     "output_type": "stream",
     "text": [
      "The string17 starts with the specific word 'Pwskills'.\n"
     ]
    }
   ],
   "source": [
    "##  17 Check if a string starts with a specific word or phrase.\n",
    "string17 = \"Pwskills is a great learning platform.\"\n",
    "specific_word = \"Pwskills\"\n",
    "if string17.startswith(specific_word):\n",
    "    print(f\"The string17 starts with the specific word '{specific_word}'.\")\n",
    "else:\n",
    "    print(f\"The string17 didn't starts with the specific word '{specific_word}'.\")"
   ]
  },
  {
   "cell_type": "code",
   "execution_count": 20,
   "id": "e9cd7ed6-2dc7-4ca3-bb02-325a98ad7d74",
   "metadata": {},
   "outputs": [
    {
     "name": "stdout",
     "output_type": "stream",
     "text": [
      "The string ends with word 'sentence'.\n"
     ]
    }
   ],
   "source": [
    "##  18 Check if a string ends with a specific word or phrase.\n",
    "string18 = \"This is a sample sentence\"\n",
    "specific_word = \"sentence\"\n",
    "# Checking the word that ends with the specific word.\n",
    "if string18.endswith(specific_word):\n",
    "    print(f\"The string ends with word '{specific_word}'.\")\n",
    "else:\n",
    "    print(f\"The string does not end with word '{specific_word}'.\")"
   ]
  },
  {
   "cell_type": "code",
   "execution_count": 21,
   "id": "cd742f0c-1c01-446f-ba87-61e6915ab711",
   "metadata": {},
   "outputs": [
    {
     "name": "stdout",
     "output_type": "stream",
     "text": [
      "Hello World\n"
     ]
    }
   ],
   "source": [
    "##   19 Convert a string to title case (e.g., \"hello world\" to \"Hello World\").\n",
    "string19 = \"hello world\"\n",
    "print(string19.title())"
   ]
  },
  {
   "cell_type": "code",
   "execution_count": 22,
   "id": "fb8f7fa5-dc60-45cf-b787-eb3fb768114b",
   "metadata": {},
   "outputs": [
    {
     "name": "stdout",
     "output_type": "stream",
     "text": [
      "The longest word in the string is 'jumped' with length 6.\n"
     ]
    }
   ],
   "source": [
    "##  20 Find the longest word in a string.\n",
    "string20 = \"The quick brown fox jumped over the lazy dog\"\n",
    "longest_word = \"\"\n",
    "for word in string20.split():\n",
    "    if len(word) > len(longest_word):\n",
    "        longest_word = word\n",
    "print(f\"The longest word in the string is '{longest_word}' with length {len(longest_word)}.\")"
   ]
  },
  {
   "cell_type": "code",
   "execution_count": 23,
   "id": "a3035394-3202-4bf7-8958-92852907c9a0",
   "metadata": {},
   "outputs": [
    {
     "name": "stdout",
     "output_type": "stream",
     "text": [
      "The shortest word in the string is '' with length 0.\n"
     ]
    }
   ],
   "source": [
    "##  21 Find the shortest word in a string.\n",
    "string21 = \"The quick brown fox jumped over the lazy dog\"\n",
    "shortest_word = \"\"\n",
    "for word in string21.split():\n",
    "    if len(word) < len(shortest_word):\n",
    "        shortest_word = word\n",
    "print(f\"The shortest word in the string is '{shortest_word}' with length {len(shortest_word)}.\")"
   ]
  },
  {
   "cell_type": "code",
   "execution_count": 24,
   "id": "8590a6f3-e543-4a54-8174-af21c163720a",
   "metadata": {},
   "outputs": [
    {
     "name": "stdout",
     "output_type": "stream",
     "text": [
      "string a in words of order the Reverse\n"
     ]
    }
   ],
   "source": [
    "##  22 Reverse the order of words in a string.\n",
    "string22 = \"Reverse the order of words in a string\"\n",
    "words = string22.split()\n",
    "reversed_words = reversed(words)\n",
    "print(\" \".join(reversed_words))"
   ]
  },
  {
   "cell_type": "code",
   "execution_count": 25,
   "id": "0ed7975e-1c31-45eb-a6f7-71be0f59d369",
   "metadata": {},
   "outputs": [
    {
     "name": "stdout",
     "output_type": "stream",
     "text": [
      "The string is not alphanumeric.\n"
     ]
    }
   ],
   "source": [
    "##  23 Check if a string is alphanumeric.\n",
    "string23 = \"This is a sample sentence\"\n",
    "if string23.isalnum():\n",
    "    print(\"The string is alphanumeric.\")\n",
    "else:\n",
    "    print(\"The string is not alphanumeric.\")"
   ]
  },
  {
   "cell_type": "code",
   "execution_count": 26,
   "id": "51319c34-50e3-4901-82eb-1d96213664a4",
   "metadata": {},
   "outputs": [
    {
     "name": "stdout",
     "output_type": "stream",
     "text": [
      "The digits are  23415\n"
     ]
    }
   ],
   "source": [
    "##  24 Extract all digits from a string.\n",
    "string24 = \"Extract all digits 23415 from a string\"\n",
    "digits = \"\"\n",
    "for char in string24:\n",
    "    if char.isdigit():\n",
    "        digits += char\n",
    "print(\"The digits are \",digits)"
   ]
  },
  {
   "cell_type": "code",
   "execution_count": 29,
   "id": "e7e14eb6-1dda-427b-8a8a-0b1027d6a149",
   "metadata": {},
   "outputs": [
    {
     "name": "stdout",
     "output_type": "stream",
     "text": [
      "The extracted aplhabets are  Extarctingallalphabetsfromastringandnumbers\n"
     ]
    }
   ],
   "source": [
    "##  25 Extract all alphabets from a string.\n",
    "string25 = \"Extarcting all alphabets from a string and numbers 12345678910\"\n",
    "alphabets = \"\"\n",
    "for char in string25:\n",
    "    if char.isalpha():\n",
    "        alphabets += char\n",
    "print(\"The extracted aplhabets are \",alphabets)"
   ]
  },
  {
   "cell_type": "code",
   "execution_count": 30,
   "id": "273bf3ca-ef3f-465e-b0b7-f5dece444534",
   "metadata": {},
   "outputs": [
    {
     "name": "stdout",
     "output_type": "stream",
     "text": [
      "The uppercase letters in a string are  6\n"
     ]
    }
   ],
   "source": [
    "##  26 Count the number of uppercase letters in a string.\n",
    "string26 = \"Count The Uppercase Letters in A String\"\n",
    "count = 0\n",
    "for char in string26:\n",
    "    if char.isupper():\n",
    "        count +=1\n",
    "print(\"The uppercase letters in a string are \",count)"
   ]
  },
  {
   "cell_type": "code",
   "execution_count": 32,
   "id": "80b7217b-db8e-4126-8272-36c658a09763",
   "metadata": {},
   "outputs": [
    {
     "name": "stdout",
     "output_type": "stream",
     "text": [
      "The lowercase letters in a string are  31\n"
     ]
    }
   ],
   "source": [
    "##   27 Count the number of lowercase letters in a string.\n",
    "string27 = \"Counting Lowercase Letters From The String\"\n",
    "count = 0\n",
    "for char in string27:\n",
    "    if char.islower():\n",
    "        count +=1\n",
    "\n",
    "print(\"The lowercase letters in a string are \",count)"
   ]
  },
  {
   "cell_type": "code",
   "execution_count": 33,
   "id": "2668535c-7aec-4f12-87fe-6053e599eccb",
   "metadata": {},
   "outputs": [
    {
     "name": "stdout",
     "output_type": "stream",
     "text": [
      "The swapped string is  sWAPPING tHE CasE OF eACH ChARACtEr IN a sTRiNG\n"
     ]
    }
   ],
   "source": [
    "##  28 Swap the case of each character in a string.\n",
    "string28 = \"Swapping The cASe of Each cHaracTeR in A StrIng\"\n",
    "swapped_string = \"\"\n",
    "for char in string28:\n",
    "    if char.isupper():\n",
    "        swapped_string += char.lower()\n",
    "    elif char.islower():\n",
    "        swapped_string += char.upper()\n",
    "    else:\n",
    "        swapped_string += char\n",
    "print(\"The swapped string is \",swapped_string)"
   ]
  },
  {
   "cell_type": "code",
   "execution_count": 34,
   "id": "dee8fe92-e932-4bea-b3ba-ab8cd9ccc2ff",
   "metadata": {},
   "outputs": [
    {
     "name": "stdout",
     "output_type": "stream",
     "text": [
      "After removing  Removing a  word\n"
     ]
    }
   ],
   "source": [
    "##   29 Remove a specific word from a string.\n",
    "string29 = \"Removing a specific word\"\n",
    "specific_word = \"specific\"\n",
    "if specific_word in string29:\n",
    "    string29 = string29.replace(specific_word, \"\")\n",
    "    print(\"After removing \",string29)\n",
    "else:\n",
    "    print(f\"The string does not contain the word '{specific_word}'.\")"
   ]
  },
  {
   "cell_type": "code",
   "execution_count": 35,
   "id": "e406dfca-7cca-4935-a78e-d680d4a77f7e",
   "metadata": {},
   "outputs": [
    {
     "name": "stdout",
     "output_type": "stream",
     "text": [
      "The string is a valid email address.\n"
     ]
    }
   ],
   "source": [
    "##  30 Check if a string is a valid email address.\n",
    "string30 = \"tugrp@example.com\"\n",
    "if \"@\" in string30 and \".\" in string30:\n",
    "    print(\"The string is a valid email address.\")\n",
    "else:\n",
    "    print(\"The string is not a valid email address.\")"
   ]
  },
  {
   "cell_type": "code",
   "execution_count": 36,
   "id": "700733ac-9f90-454c-b8b9-aebf53ce510e",
   "metadata": {},
   "outputs": [
    {
     "name": "stdout",
     "output_type": "stream",
     "text": [
      "The username is example123456\n"
     ]
    }
   ],
   "source": [
    "##  31 Extract the username from an email address string.\n",
    "email_address = \"example123456@google.com\"\n",
    "username = email_address.split(\"@\")[0]\n",
    "print(f\"The username is {username}\")"
   ]
  },
  {
   "cell_type": "code",
   "execution_count": 37,
   "id": "cf787fdc-abdd-42b5-a3aa-76de2d73115d",
   "metadata": {},
   "outputs": [
    {
     "name": "stdout",
     "output_type": "stream",
     "text": [
      "The domain name is google.com\n"
     ]
    }
   ],
   "source": [
    "##  32 Extract the domain name from an email address string.\n",
    "email_address = \"example123456@google.com\"\n",
    "domain_name = email_address.split(\"@\")[1]\n",
    "print(f\"The domain name is {domain_name}\")"
   ]
  },
  {
   "cell_type": "code",
   "execution_count": 38,
   "id": "b0463ba3-5583-4417-aa49-93e020f338ec",
   "metadata": {},
   "outputs": [
    {
     "name": "stdout",
     "output_type": "stream",
     "text": [
      "This is an example with multiple spaces.\n"
     ]
    }
   ],
   "source": [
    "##   33 Replace multiple spaces in a string with a single space. \n",
    "def replace_spaces(input_string):\n",
    "    return ' '.join(input_string.split())\n",
    "\n",
    "# Example usage:\n",
    "input_string = \"This   is    an   example   with   multiple   spaces.\"\n",
    "output_string = replace_spaces(input_string)\n",
    "print(output_string)"
   ]
  },
  {
   "cell_type": "code",
   "execution_count": 39,
   "id": "c02c8574-2d1a-40a8-849e-167fa3d3c7e0",
   "metadata": {},
   "outputs": [
    {
     "name": "stdout",
     "output_type": "stream",
     "text": [
      "The string is a valid URL.\n"
     ]
    }
   ],
   "source": [
    "##  34 . Check if a string is a valid URL.\n",
    "string34 = \"https://www.example.com\"\n",
    "if string34.startswith(\"http://\") or string34.startswith(\"https://\"):\n",
    "    print(\"The string is a valid URL.\")\n",
    "else:\n",
    "    print(\"The string is not a valid URL.\")"
   ]
  },
  {
   "cell_type": "code",
   "execution_count": 40,
   "id": "cbcf9c96-990f-4f94-8d9a-080045348cb2",
   "metadata": {},
   "outputs": [
    {
     "name": "stdout",
     "output_type": "stream",
     "text": [
      "The protocol is https\n"
     ]
    }
   ],
   "source": [
    "##  35 Extract the protocol (http or https) from a URL string.\n",
    "string35 = \"https://www.example.com\"\n",
    "protocol = string35.split(\"://\")[0]\n",
    "print(f\"The protocol is {protocol}\")"
   ]
  },
  {
   "cell_type": "code",
   "execution_count": 1,
   "id": "7562d21f-ae08-4e9a-a82d-0d0eec05b054",
   "metadata": {},
   "outputs": [
    {
     "name": "stdout",
     "output_type": "stream",
     "text": [
      "The frequency of each character in a string is  {'F': 1, 'i': 4, 'n': 5, 'd': 1, 'g': 2, ' ': 8, 't': 3, 'h': 3, 'e': 5, 'f': 2, 'r': 4, 'q': 1, 'u': 1, 'c': 4, 'y': 1, 'o': 1, 'a': 4, 's': 1}\n"
     ]
    }
   ],
   "source": [
    "##  36 Find the frequency of each character in a string.\n",
    "string36 = \"Finding the frequency of each character in a string\"\n",
    "frequency = {}\n",
    "for char in string36:\n",
    "    if char in frequency:\n",
    "        frequency[char] += 1\n",
    "    else:\n",
    "        frequency[char] = 1\n",
    "print(\"The frequency of each character in a string is \",frequency)"
   ]
  },
  {
   "cell_type": "code",
   "execution_count": 13,
   "id": "200e961d-5583-4e87-8cae-93ee09d128b4",
   "metadata": {},
   "outputs": [
    {
     "name": "stdout",
     "output_type": "stream",
     "text": [
      "Hello Its a pwskills class  thought by sudhanshu sir\n"
     ]
    }
   ],
   "source": [
    "##  37 Remove all punctuation from a string.\n",
    "import string\n",
    "def remove_punctuation(input_string):\n",
    "    no_punc = ''.join([char for char in input_string if char not in string.punctuation])\n",
    "    return no_punc\n",
    "\n",
    "input_string = \"Hello!! It's, a pwskills class & thought by sudhanshu sir.\"\n",
    "result = remove_punctuation(input_string)\n",
    "print(result)"
   ]
  },
  {
   "cell_type": "code",
   "execution_count": 3,
   "id": "f62bb44e-36cd-4a2f-a807-7934b86807ec",
   "metadata": {},
   "outputs": [
    {
     "name": "stdout",
     "output_type": "stream",
     "text": [
      "Is string_1 is digit only  False\n",
      "Is string_2 is digit only  True\n"
     ]
    }
   ],
   "source": [
    "##   38 Check if a string contains only digits.\n",
    "def only_digits(input_string):\n",
    "    return input_string.isdigit()\n",
    "\n",
    "string_1 = \"abc123\"\n",
    "string_2 = \"1234\"\n",
    "\n",
    "print(\"Is string_1 is digit only \",only_digits(string_1))\n",
    "print(\"Is string_2 is digit only \",only_digits(string_2))"
   ]
  },
  {
   "cell_type": "code",
   "execution_count": 4,
   "id": "85e978e3-fc8e-42b0-a706-d700017ade07",
   "metadata": {},
   "outputs": [
    {
     "name": "stdout",
     "output_type": "stream",
     "text": [
      "Is string_1 is alphabet only  True\n",
      "Is string_2 is alphabet only  False\n"
     ]
    }
   ],
   "source": [
    "##   39 Check if a string contains only alphabets.\n",
    "def only_alphabets(input_string):\n",
    "    return input_string.isalpha()\n",
    "\n",
    "string_1 = \"abc\"\n",
    "string_2 = \"1234\"\n",
    "\n",
    "print(\"Is string_1 is alphabet only \",only_alphabets(string_1))\n",
    "print(\"Is string_2 is alphabet only \",only_alphabets(string_2))"
   ]
  },
  {
   "cell_type": "code",
   "execution_count": 5,
   "id": "df9dca90-dead-4eed-8908-71d6dbfa89b9",
   "metadata": {},
   "outputs": [
    {
     "name": "stdout",
     "output_type": "stream",
     "text": [
      "['p', 'w', 's', 'k', 'i', 'l', 'l', 's', ' ', 'c', 'l', 'a', 's', 's', 'e', 's']\n"
     ]
    }
   ],
   "source": [
    "##  40 Convert a string to a list of characters.\n",
    "string40 = \"pwskills classes\"\n",
    "list_1 = []\n",
    "\n",
    "for char in string40:\n",
    "    list_1.append(char)\n",
    "\n",
    "print(list_1)"
   ]
  },
  {
   "cell_type": "code",
   "execution_count": 6,
   "id": "339f209e-fece-4c65-82f3-3b67c88770c7",
   "metadata": {},
   "outputs": [
    {
     "name": "stdout",
     "output_type": "stream",
     "text": [
      "True\n",
      "False\n",
      "False\n"
     ]
    }
   ],
   "source": [
    "##  41 Check if two strings are anagrams.\n",
    "\n",
    "def are_anagrams(str1, str2):\n",
    "  # Remove spaces and convert to lowercase for case-insensitive comparison\n",
    "    str1 = str1.replace(\" \", \"\").lower()\n",
    "    str2 = str2.replace(\" \", \"\").lower()\n",
    "\n",
    "  # Check if the sorted strings are the same\n",
    "    return sorted(str1) == sorted(str2)\n",
    "\n",
    "# Example usage\n",
    "string1 = \"Listen\"\n",
    "string2 = \"Silent\"\n",
    "string3 = \"Hello\"\n",
    "string4 = \"Hola\"\n",
    "\n",
    "print(are_anagrams(string1, string2))\n",
    "print(are_anagrams(string1, string3))\n",
    "print(are_anagrams(string3, string4))"
   ]
  },
  {
   "cell_type": "code",
   "execution_count": 7,
   "id": "ab9b7fbf-19e2-4117-9fa3-dd32256986fe",
   "metadata": {},
   "outputs": [
    {
     "name": "stdout",
     "output_type": "stream",
     "text": [
      "Khoor, zruog!\n"
     ]
    }
   ],
   "source": [
    "##  42 Encode a string using a Caesar cipher.\n",
    "def caesar_cipher_encode(input_string, shift):\n",
    "    result = \"\"\n",
    "    \n",
    "    for char in input_string:\n",
    "        if char.isalpha():\n",
    "            # Determine whether the character is uppercase or lowercase\n",
    "            is_upper = char.isupper()\n",
    "\n",
    "            # Shift the character by the specified amount\n",
    "            char_code = ord(char) + shift\n",
    "\n",
    "            # Ensure the character remains within the alphabet range\n",
    "            if is_upper:\n",
    "                char_code = (char_code - ord('A')) % 26 + ord('A')\n",
    "            else:\n",
    "                char_code = (char_code - ord('a')) % 26 + ord('a')\n",
    "\n",
    "            # Append the encoded character to the result\n",
    "            result += chr(char_code)\n",
    "        else:\n",
    "            # Preserve non-alphabetic characters unchanged\n",
    "            result += char\n",
    "\n",
    "    return result\n",
    "\n",
    "# Example usage\n",
    "plaintext = \"Hello, world!\"\n",
    "shift_amount = 3\n",
    "ciphertext = caesar_cipher_encode(plaintext, shift_amount)\n",
    "print(ciphertext)"
   ]
  },
  {
   "cell_type": "code",
   "execution_count": 18,
   "id": "f8b1f081-afdf-4a0d-8cc5-ea86335ad54c",
   "metadata": {},
   "outputs": [
    {
     "name": "stdout",
     "output_type": "stream",
     "text": [
      "Hello, world!\n"
     ]
    }
   ],
   "source": [
    "##   43 Decode a Caesar cipher encoded string.\n",
    "def caesar_cipher_decode(encoded_string, shift):\n",
    "  def caesar_cipher_encode(input_string, shift):\n",
    "    result = \"\"\n",
    "\n",
    "    for char in input_string:\n",
    "      if char.isalpha():\n",
    "          # Determine whether the character is uppercase or lowercase\n",
    "          is_upper = char.isupper()\n",
    "\n",
    "          # Shift the character by the specified amount\n",
    "          char_code = ord(char) + shift\n",
    "\n",
    "          # Ensure the character remains within the alphabet range\n",
    "          if is_upper:\n",
    "              char_code = (char_code - ord('A')) % 26 + ord('A')\n",
    "          else:\n",
    "              char_code = (char_code - ord('a')) % 26 + ord('a')\n",
    "\n",
    "          # Append the encoded character to the result\n",
    "          result += chr(char_code)\n",
    "      else:\n",
    "          # Preserve non-alphabetic characters unchanged\n",
    "          result += char\n",
    "\n",
    "    return result\n",
    "  # Use the negative of the shift to reverse the encoding\n",
    "  return caesar_cipher_encode(encoded_string, -shift)\n",
    "\n",
    "# Reusing the caesar_cipher_encode function from the previous example\n",
    "\n",
    "# Example usage\n",
    "encoded_text = \"Khoor, zruog!\"\n",
    "shift_amount = 3\n",
    "decoded_text = caesar_cipher_decode(encoded_text, shift_amount)\n",
    "print(decoded_text)"
   ]
  },
  {
   "cell_type": "code",
   "execution_count": 19,
   "id": "ed7a21bc-d68b-4e2c-b498-3a908f67d64d",
   "metadata": {},
   "outputs": [
    {
     "name": "stdout",
     "output_type": "stream",
     "text": [
      "The most frequent word is 'this' with a frequency of 2 times.\n"
     ]
    }
   ],
   "source": [
    "##  44 Find the most frequent word in a string.\n",
    "\n",
    "def most_frequent_word(input_string):\n",
    "  # Split the input string into words\n",
    "  words = input_string.lower().split()\n",
    "\n",
    "  # Create a dictionary to store word frequencies\n",
    "  word_freq = {}\n",
    "  for word in words:\n",
    "      # Remove punctuation if needed\n",
    "      word = word.strip('.,!?')\n",
    "\n",
    "      # Update the frequency in the dictionary\n",
    "      word_freq[word] = word_freq.get(word, 0) + 1\n",
    "\n",
    "  # Find the word with the highest frequency\n",
    "  most_common_word = max(word_freq, key=word_freq.get)\n",
    "  frequency = word_freq[most_common_word]\n",
    "\n",
    "  return most_common_word, frequency\n",
    "\n",
    "# Example usage\n",
    "text = \"This is an example sentence. This sentence contains repeated words, and the most frequent word is 'sentence'.\"\n",
    "result_word, result_frequency = most_frequent_word(text)\n",
    "\n",
    "print(f\"The most frequent word is '{result_word}' with a frequency of {result_frequency} times.\")\n"
   ]
  },
  {
   "cell_type": "code",
   "execution_count": 20,
   "id": "26bf55eb-97be-4f2b-bbea-73dc8892d5ed",
   "metadata": {},
   "outputs": [
    {
     "name": "stdout",
     "output_type": "stream",
     "text": [
      "Unique words are \n",
      "{'repeated', 'unique', 'an', 'contains', 'word', 'is', 'example', 'most', 'sentence', 'the', \"'sentence'.\", 'and', 'this', 'sentence.', 'words,'}\n"
     ]
    }
   ],
   "source": [
    "##  45 . Find all unique words in a string.\n",
    "def unique_words(input_string):\n",
    "  # Split the input string into words\n",
    "  words = input_string.lower().split()\n",
    "  unique_words = set(words)\n",
    "  return unique_words\n",
    "# Example usage\n",
    "text = \"This is an example sentence. This sentence contains repeated words, and the most Unique word is 'sentence'.\"\n",
    "unique_word = unique_words(text)\n",
    "print(\"Unique words are \")\n",
    "print(unique_word)"
   ]
  },
  {
   "cell_type": "code",
   "execution_count": 22,
   "id": "f17bad28-62a8-4673-b597-9b9a3045406c",
   "metadata": {},
   "outputs": [
    {
     "name": "stdout",
     "output_type": "stream",
     "text": [
      "The sentence contains 11 syllables.\n"
     ]
    }
   ],
   "source": [
    "##   46  Count the number of syllables in a string.\n",
    "def count_syllables(input_string):\n",
    "  # Split the input string into words\n",
    "  words = input_string.lower().split()\n",
    "\n",
    "  # Initialize the count of syllables\n",
    "  syllable_count = 0\n",
    "  for word in words:\n",
    "      # Count the number of vowels in the word\n",
    "      vowel_count = 0\n",
    "      for char in word:\n",
    "          if char in 'aeiouy':\n",
    "              vowel_count += 1\n",
    "                  # Count the number of consonants in the word\n",
    "      consonant_count = len(word) - vowel_count\n",
    "      # Count the number of syllables in the word\n",
    "      syllable_count += (vowel_count // 2) + (consonant_count // 6)\n",
    "    # Return the total number of syllables\n",
    "  return syllable_count\n",
    "  # Example usage\n",
    "text = \"This is an example sentence. This sentence contains repeated words, and the most Unique word is 'sentence'.\"\n",
    "syllable_count = count_syllables(text)\n",
    "print(f\"The sentence contains {syllable_count} syllables.\")"
   ]
  },
  {
   "cell_type": "code",
   "execution_count": 23,
   "id": "08d118e3-5d72-4812-846e-a8c6b82be181",
   "metadata": {},
   "outputs": [
    {
     "name": "stdout",
     "output_type": "stream",
     "text": [
      "True\n"
     ]
    }
   ],
   "source": [
    "##  47 Check if a string contains any special characters.\n",
    "def contains_special_characters(input_string):\n",
    "  # Split the input string into characters\n",
    "  characters = list(input_string)\n",
    "  # Check if any of the characters is not a letter or digit\n",
    "  for char in characters:\n",
    "      if not (char.isalpha() or char.isdigit()):\n",
    "          return True\n",
    "  return False\n",
    "# Example usage\n",
    "text = \"Pwskills !! Hello $.\"\n",
    "result = contains_special_characters(text)\n",
    "print(result)"
   ]
  },
  {
   "cell_type": "code",
   "execution_count": 24,
   "id": "6e20d8bb-62e0-4fe0-b1d1-fb207cdba883",
   "metadata": {},
   "outputs": [
    {
     "name": "stdout",
     "output_type": "stream",
     "text": [
      "This is example sentence.\n"
     ]
    }
   ],
   "source": [
    "##  48 Remove the nth word from a string.\n",
    "def remove_nth_word(input_string, n):\n",
    "  # Split the input string into words\n",
    "  words = input_string.split()\n",
    "\n",
    "  # Check if n is a valid index\n",
    "  if 1 <= n <= len(words):\n",
    "      # Remove the nth word\n",
    "      del words[n - 1]\n",
    "\n",
    "      # Join the remaining words back into a string\n",
    "      result_string = ' '.join(words)\n",
    "\n",
    "      return result_string\n",
    "  else:\n",
    "      # If n is an invalid index, return the original string\n",
    "      return input_string\n",
    "\n",
    "# Example usage\n",
    "original_string = \"This is an example sentence.\"\n",
    "n = 3\n",
    "modified_string = remove_nth_word(original_string, n)\n",
    "print(modified_string)"
   ]
  },
  {
   "cell_type": "code",
   "execution_count": 25,
   "id": "8d250b31-5a01-4c73-911d-c9a00b1e17d8",
   "metadata": {},
   "outputs": [
    {
     "name": "stdout",
     "output_type": "stream",
     "text": [
      "This is new an example sentence.\n"
     ]
    }
   ],
   "source": [
    "##  49 Insert a word at the nth position in a string.\n",
    "def insert_word_at_nth_position(original_string, n, word_to_insert):\n",
    "  # Split the input string into words\n",
    "  words = original_string.split()\n",
    "\n",
    "  # Check if n is a valid index\n",
    "  if 1 <= n <= len(words) + 1:\n",
    "      # Insert the word at the nth position\n",
    "      words.insert(n - 1, word_to_insert)\n",
    "\n",
    "      # Join the modified words back into a string\n",
    "      modified_string = ' '.join(words)\n",
    "\n",
    "      return modified_string\n",
    "  else:\n",
    "      # If n is an invalid index, return the original string\n",
    "      return original_string\n",
    "\n",
    "# Example usage\n",
    "original_string = \"This is an example sentence.\"\n",
    "n = 3\n",
    "word_to_insert = \"new\"\n",
    "modified_string = insert_word_at_nth_position(original_string, n, word_to_insert)\n",
    "print(modified_string)"
   ]
  },
  {
   "cell_type": "code",
   "execution_count": 26,
   "id": "454d0a7f-bafe-4a5b-af77-b16d09bf7c78",
   "metadata": {},
   "outputs": [
    {
     "name": "stdout",
     "output_type": "stream",
     "text": [
      "['Name', ' Age', ' City']\n",
      "['John', ' 25', ' New York']\n",
      "['Jane', ' 30', ' Los Angeles']\n",
      "['Bob', ' 22', ' Chicago']\n"
     ]
    }
   ],
   "source": [
    "##   50  Convert a CSV string to a list of lists.\n",
    "import csv\n",
    "from io import StringIO\n",
    "\n",
    "def csv_string_to_list(csv_string):\n",
    "    # Use the csv.reader to parse the CSV string\n",
    "    csv_reader = csv.reader(StringIO(csv_string))\n",
    "\n",
    "    # Convert the csv.reader object to a list of lists\n",
    "    csv_list = list(csv_reader)\n",
    "\n",
    "    return csv_list\n",
    "\n",
    "# Example usage\n",
    "csv_string = \"Name, Age, City\\nJohn, 25, New York\\nJane, 30, Los Angeles\\nBob, 22, Chicago\"\n",
    "csv_list = csv_string_to_list(csv_string)\n",
    "\n",
    "# Display the resulting list of lists\n",
    "for row in csv_list:\n",
    "    print(row)"
   ]
  },
  {
   "cell_type": "markdown",
   "id": "1f06d1c9-7ccb-4d04-8faa-b9a62eaa4942",
   "metadata": {},
   "source": [
    "#####       LIST BASED PRACTICE PROBLEM    #########"
   ]
  },
  {
   "cell_type": "code",
   "execution_count": 27,
   "id": "2eae6b81-c7ca-42f0-9fdc-c44d607d30f6",
   "metadata": {},
   "outputs": [
    {
     "name": "stdout",
     "output_type": "stream",
     "text": [
      "A list with integers from 1 to 10 is : \n",
      "[1, 2, 3, 4, 5, 6, 7, 8, 9, 10]\n"
     ]
    }
   ],
   "source": [
    "##  1. Create a list with integers from 1 to 10.\n",
    "list_create = [i for i in range(1,11)]  # Using the list comprehension.\n",
    "print(\"A list with integers from 1 to 10 is : \")\n",
    "print(list_create)"
   ]
  },
  {
   "cell_type": "code",
   "execution_count": 28,
   "id": "ae9759f3-cdc0-44be-bde1-7408af8b8990",
   "metadata": {},
   "outputs": [
    {
     "name": "stdout",
     "output_type": "stream",
     "text": [
      "The length of the lsit_1 is : 11\n"
     ]
    }
   ],
   "source": [
    "##  2. Find the length of a list without using the `len()` function.\n",
    "list_1 = [1,2,3,4,5,6,6,7,8,9,10]\n",
    "def list_len(list_1):\n",
    "    length_1 = 0\n",
    "    for i in list_1: # Iterate the value if the list\n",
    "        length_1 +=1  # Counting the element of the list as length of the list.\n",
    "\n",
    "    return length_1\n",
    "\n",
    "print(\"The length of the lsit_1 is :\",list_len(list_1))"
   ]
  },
  {
   "cell_type": "code",
   "execution_count": 29,
   "id": "0aba43e6-4c4e-4662-8a67-fd14d0304ed7",
   "metadata": {},
   "outputs": [
    {
     "name": "stdout",
     "output_type": "stream",
     "text": [
      "The list after appending an element at the last is : [2, 3, 1, 2, 32, 1, 23, 24, 4, 100]\n"
     ]
    }
   ],
   "source": [
    "##  3. Append an element to the end of a list.\n",
    "list_2 = [2,3,1,2,32,1,23,24,4]\n",
    "list_2.append(100)  # Append an element at the last of the list.\n",
    "print(\"The list after appending an element at the last is :\",list_2)"
   ]
  },
  {
   "cell_type": "code",
   "execution_count": 30,
   "id": "14570712-cf63-4e45-bf58-b4d0844b74b3",
   "metadata": {},
   "outputs": [
    {
     "name": "stdout",
     "output_type": "stream",
     "text": [
      "After inserting an element at a specific index in list is  [2, 3, 1, 2, 4000000, 32, 1, 23, 24, 4]\n"
     ]
    }
   ],
   "source": [
    "##  4. Insert an element at a specific index in a list.\n",
    "list_2 = [2,3,1,2,32,1,23,24,4]\n",
    "list_2.insert(4,4000000)\n",
    "print(\"After inserting an element at a specific index in list is \",list_2)"
   ]
  },
  {
   "cell_type": "code",
   "execution_count": 31,
   "id": "04a632d8-af2a-4ee3-a4a1-0c8103fd1cca",
   "metadata": {},
   "outputs": [
    {
     "name": "stdout",
     "output_type": "stream",
     "text": [
      "A list after removing an element by value is  [2, 3, 1, 2, 1, 23, 24, 4]\n"
     ]
    }
   ],
   "source": [
    "##   5. Remove an element from a list by its value.\n",
    "list_2 = [2,3,1,2,3200000,1,23,24,4]\n",
    "list_2.remove(3200000)\n",
    "print(\"A list after removing an element by value is \",list_2)"
   ]
  },
  {
   "cell_type": "code",
   "execution_count": 32,
   "id": "a3af154a-b641-41e3-a275-266719bad676",
   "metadata": {},
   "outputs": [
    {
     "name": "stdout",
     "output_type": "stream",
     "text": [
      "A list after removing an element from a list by its index is  [2, 3, 1, 2, 1, 23, 24, 4]\n"
     ]
    }
   ],
   "source": [
    "##  6. Remove an element from a list by its index.\n",
    "list_2 = [2,3,1,2,3200000,1,23,24,4]\n",
    "list_2.pop(4)\n",
    "print(\"A list after removing an element from a list by its index is \",list_2)"
   ]
  },
  {
   "cell_type": "code",
   "execution_count": 33,
   "id": "876fcc07-8916-43ff-873f-1e2e7dfa96b7",
   "metadata": {},
   "outputs": [
    {
     "name": "stdout",
     "output_type": "stream",
     "text": [
      "The element exists in the list_3\n"
     ]
    }
   ],
   "source": [
    "##  7. Check if an element exists in a list.\n",
    "def element_exists(list_3,element):\n",
    "        if element in list_3:\n",
    "            print(\"The element exists in the list_3\")\n",
    "        else:\n",
    "            print(\"The element doesn't exists in the list_3\")\n",
    "\n",
    "list_3 = [1,2,3,4,5,6,7,8,9,10]\n",
    "element = 6\n",
    "element_exists(list_3,element)"
   ]
  },
  {
   "cell_type": "code",
   "execution_count": 34,
   "id": "6fce8fbe-dd49-4fe8-911f-3bc051bca819",
   "metadata": {},
   "outputs": [
    {
     "name": "stdout",
     "output_type": "stream",
     "text": [
      "The 1st occurence of 78 element index is  5\n"
     ]
    }
   ],
   "source": [
    "##  8. Find the index of the first occurrence of an element in a list.\n",
    "def first_occurence(list_4,element):\n",
    "    for i in range(len(list_4)):\n",
    "        if (list_4[i] == element) :\n",
    "            print(f\"The 1st occurence of {element} element index is \",i)\n",
    "            return\n",
    "    print(f\"The element {element} didn't exist's in the list\")\n",
    "\n",
    "list_4 = [1,2,3,4,56,78,9,10,12,32]\n",
    "element = 78\n",
    "first_occurence(list_4,element)"
   ]
  },
  {
   "cell_type": "code",
   "execution_count": 35,
   "id": "7ec9ddd3-e479-42d2-976d-0f944a3d585e",
   "metadata": {},
   "outputs": [
    {
     "name": "stdout",
     "output_type": "stream",
     "text": [
      "The element 2 occurs 3 times in the list.\n"
     ]
    }
   ],
   "source": [
    "##  9. Count the occurrences of an element in a list.\n",
    "def count_occurence(list_5,element):\n",
    "    count = 0\n",
    "    for i in range(len(list_5)):\n",
    "        if (list_5[i] == element) :\n",
    "            count +=1\n",
    "    if count > 0:\n",
    "        print(f\"The element {element} occurs {count} times in the list.\")\n",
    "    else:\n",
    "        print(f\"The element {element} doesn't exist in the list.\")\n",
    "list_5 = [1,2,3,45,6,1,2,3,45,6,7,89,9,10,12,2,1,3,3,4]\n",
    "element = 2\n",
    "count_occurence(list_5,element)"
   ]
  },
  {
   "cell_type": "code",
   "execution_count": 36,
   "id": "3f3f2351-a468-494e-aeba-5399c609296f",
   "metadata": {},
   "outputs": [
    {
     "name": "stdout",
     "output_type": "stream",
     "text": [
      "The reversed list is [10, 89, 7, 6, 45, 3, 2, 1]\n"
     ]
    }
   ],
   "source": [
    "##  10. Reverse the order of elements in a list.\n",
    "def reverse_list(list_6):\n",
    "    return list_6[::-1]\n",
    "\n",
    "list_6 = [1, 2, 3, 45, 6, 7, 89, 10]\n",
    "result = reverse_list(list_6)\n",
    "print(\"The reversed list is\", result)"
   ]
  },
  {
   "cell_type": "code",
   "execution_count": 37,
   "id": "598ad32e-3ab5-4bac-89ca-70287ab85f2f",
   "metadata": {},
   "outputs": [
    {
     "name": "stdout",
     "output_type": "stream",
     "text": [
      "The sorted list is  [32, 34, 45, 65, 76, 89, 90]\n"
     ]
    }
   ],
   "source": [
    "##  11. Sort a list in ascending order.\n",
    "list_7 = [32, 45, 65, 34, 76, 89, 90]\n",
    "sorted_list = sorted(list_7)\n",
    "print(\"The sorted list is \",sorted_list)"
   ]
  },
  {
   "cell_type": "code",
   "execution_count": 38,
   "id": "02398537-0e4e-4cd2-9db1-dfe0747724d4",
   "metadata": {},
   "outputs": [
    {
     "name": "stdout",
     "output_type": "stream",
     "text": [
      "The sorted list in descending order is [90, 89, 76, 65, 45, 34, 32]\n"
     ]
    }
   ],
   "source": [
    "##  12. Sort a list in descending order.\n",
    "list_7 = [32, 45, 65, 34, 76, 89, 90]\n",
    "\n",
    "# Using sort method\n",
    "list_7.sort(reverse=True)\n",
    "\n",
    "print(\"The sorted list in descending order is\", list_7)"
   ]
  },
  {
   "cell_type": "code",
   "execution_count": 39,
   "id": "27c003fc-9e88-40d1-9b31-ea240b45140a",
   "metadata": {},
   "outputs": [
    {
     "name": "stdout",
     "output_type": "stream",
     "text": [
      "The even number list is  [2, 4, 6, 8, 10, 12, 14, 16, 18, 20]\n"
     ]
    }
   ],
   "source": [
    "##  13. Create a list of even numbers from 1 to 20.\n",
    "def even_num_list():\n",
    "    even_list = []\n",
    "    for i in range(1,21):\n",
    "        if i%2 == 0:\n",
    "            even_list.append(i)\n",
    "    return even_list\n",
    "\n",
    "print(\"The even number list is \",even_num_list())"
   ]
  },
  {
   "cell_type": "code",
   "execution_count": 40,
   "id": "479258ed-0521-4680-a6c9-c83a74dffb11",
   "metadata": {},
   "outputs": [
    {
     "name": "stdout",
     "output_type": "stream",
     "text": [
      "The odd number list is  [1, 3, 5, 7, 9, 11, 13, 15, 17, 19]\n"
     ]
    }
   ],
   "source": [
    "##  14. Create a list of odd numbers from 1 to 20.\n",
    "def odd_num_list():\n",
    "    odd_list = []\n",
    "    for i in range(1,21):\n",
    "        if i%2 != 0:\n",
    "            odd_list.append(i)\n",
    "    return odd_list\n",
    "\n",
    "print(\"The odd number list is \",odd_num_list())"
   ]
  },
  {
   "cell_type": "code",
   "execution_count": 41,
   "id": "f686dce2-1e50-4f31-98ca-1769e24032bb",
   "metadata": {},
   "outputs": [
    {
     "name": "stdout",
     "output_type": "stream",
     "text": [
      "The sum of all element of the list is  549\n"
     ]
    }
   ],
   "source": [
    "##  15. Find the sum of all elements in a list.\n",
    "def sum_of_element(list_8):\n",
    "    sum_list = 0\n",
    "    for num in list_8:\n",
    "        sum_list +=num\n",
    "    return sum_list\n",
    "\n",
    "list_8 = [44,5,55,66,12,33,34,32,67,6,8,89,98]\n",
    "print(\"The sum of all element of the list is \",sum_of_element(list_8))\n"
   ]
  },
  {
   "cell_type": "code",
   "execution_count": 42,
   "id": "b747ad14-7185-48fe-b5cc-06eead59ab1b",
   "metadata": {},
   "outputs": [
    {
     "name": "stdout",
     "output_type": "stream",
     "text": [
      "The maximum value in the list is 98\n"
     ]
    }
   ],
   "source": [
    "##  16. Find the maximum value in a list.\n",
    "list_8 = [44, 5, 55, 66, 12, 33, 34, 32, 67, 6, 8, 89, 98]\n",
    "\n",
    "def max_in_list(list_8):\n",
    "    max_num = list_8[0]\n",
    "\n",
    "    for i in range(1, len(list_8)):\n",
    "        if list_8[i] > max_num:\n",
    "            max_num = list_8[i]\n",
    "\n",
    "    return max_num\n",
    "\n",
    "print(\"The maximum value in the list is\", max_in_list(list_8))"
   ]
  },
  {
   "cell_type": "code",
   "execution_count": 44,
   "id": "4fec0b50-ee4e-46ee-9d94-5057bc1732fc",
   "metadata": {},
   "outputs": [
    {
     "name": "stdout",
     "output_type": "stream",
     "text": [
      "The minimum value in the list is  2\n"
     ]
    }
   ],
   "source": [
    "##  17. Find the minimum value in a list.\n",
    "list_9 = [10,2,3,4,6,4,5,8]\n",
    "def min_in_list(list_9):\n",
    "    min_num = list_9[0]\n",
    "    for i in range(1,len(list_9)):\n",
    "        if list_9[i] < min_num:\n",
    "            min_num = list_9[i]\n",
    "\n",
    "    return min_num\n",
    "print(\"The minimum value in the list is \",min_in_list(list_9))"
   ]
  },
  {
   "cell_type": "code",
   "execution_count": 45,
   "id": "854c66f2-ffd0-4a8f-ab05-f257918df114",
   "metadata": {},
   "outputs": [
    {
     "name": "stdout",
     "output_type": "stream",
     "text": [
      "The list of square is  [1, 4, 9, 16, 25, 36, 49, 64, 81, 100]\n"
     ]
    }
   ],
   "source": [
    "##  18. Create a list of squares of numbers from 1 to 10.\n",
    "sqr_list = [i*i for i in range(1,11)]   # Creating a list of square by list comprehension.\n",
    "print(\"The list of square is \",sqr_list)"
   ]
  },
  {
   "cell_type": "code",
   "execution_count": 46,
   "id": "7be42297-9814-44d2-8b56-6859a0dec76e",
   "metadata": {},
   "outputs": [
    {
     "name": "stdout",
     "output_type": "stream",
     "text": [
      "Random list:  [9, 96, 57, 22, 85, 93, 65, 71, 66, 63]\n"
     ]
    }
   ],
   "source": [
    "##   19. Create a list of random numbers.\n",
    "import random\n",
    "random_list = [random.randint(1,100) for i in range(10)]\n",
    "\n",
    "print(\"Random list: \",random_list)"
   ]
  },
  {
   "cell_type": "code",
   "execution_count": 47,
   "id": "7d39bc81-924c-421e-a79c-612845cd556d",
   "metadata": {},
   "outputs": [
    {
     "name": "stdout",
     "output_type": "stream",
     "text": [
      "The list after removing of duplicates : [1, 2, 4, 5]\n"
     ]
    }
   ],
   "source": [
    "##  20. Remove duplicates from a list.\n",
    "list_10 = [1,2,4,5,4,5,1,2]\n",
    "\n",
    "def remove_duplicate(list_10):\n",
    "    unique_list = list(set(list_10))\n",
    "    return unique_list\n",
    "result_list = remove_duplicate(list_10)\n",
    "print(\"The list after removing of duplicates :\",result_list)"
   ]
  },
  {
   "cell_type": "code",
   "execution_count": 48,
   "id": "32e4ce92-ad8a-41a8-b41f-e96a81f0667d",
   "metadata": {},
   "outputs": [
    {
     "name": "stdout",
     "output_type": "stream",
     "text": [
      "The common element between two list is : {2, 3, 4, 5, 6, 8}\n"
     ]
    }
   ],
   "source": [
    "##  21. Find the common elements between two lists.\n",
    "list_10 =  [1,2,3,4,5,6,7,8]\n",
    "list_9 = [10,2,3,4,6,4,5,8]\n",
    "def common_list(list_10,list_9):\n",
    "    common_element_list = []\n",
    "    for i in range(len(list_10)):\n",
    "        common_element = list_10[i]\n",
    "        for j in range(len(list_9)):\n",
    "            if common_element == list_9[j]:\n",
    "                common_element_list.append(list_9[j])\n",
    "\n",
    "    return set(list(common_element_list))\n",
    "\n",
    "print(\"The common element between two list is :\",common_list(list_10,list_9))\n"
   ]
  },
  {
   "cell_type": "code",
   "execution_count": 49,
   "id": "6763e888-6cc2-4ce3-a968-d2f9525b8e90",
   "metadata": {},
   "outputs": [
    {
     "name": "stdout",
     "output_type": "stream",
     "text": [
      "Elements unique to list_10: [1, 7]\n",
      "Elements unique to list_9: [10]\n"
     ]
    }
   ],
   "source": [
    "##  22. Find the difference between two lists.\n",
    "list_10 = [1, 2, 3, 4, 5, 6, 7, 8]\n",
    "list_9 = [10, 2, 3, 4, 6, 4, 5, 8]\n",
    "\n",
    "def list_difference(list_1, list_2):\n",
    "    set_1 = set(list_1)\n",
    "    set_2 = set(list_2)\n",
    "\n",
    "    difference_1 = list(set_1 - set_2)\n",
    "    difference_2 = list(set_2 - set_1)\n",
    "\n",
    "    return difference_1, difference_2\n",
    "\n",
    "result_difference_1, result_difference_2 = list_difference(list_10, list_9)\n",
    "\n",
    "print(\"Elements unique to list_10:\", result_difference_1)\n",
    "print(\"Elements unique to list_9:\", result_difference_2)"
   ]
  },
  {
   "cell_type": "code",
   "execution_count": 50,
   "id": "fdcc6888-60bc-4493-8845-c13e9c4f4259",
   "metadata": {},
   "outputs": [
    {
     "name": "stdout",
     "output_type": "stream",
     "text": [
      "The two list after merge  [1, 2, 3, 4, 5, 6, 7, 8, 9, 10, 11, 12]\n"
     ]
    }
   ],
   "source": [
    "##  23. Merge two lists.\n",
    "list_10 = [1, 2, 3, 4, 5, 6, 7, 8]\n",
    "list_9 = [10, 9,11,12]\n",
    "\n",
    "list_10.extend(list_9)\n",
    "print(\"The two list after merge \",sorted(list_10))"
   ]
  },
  {
   "cell_type": "code",
   "execution_count": 51,
   "id": "266485ac-0912-4f87-8ceb-774675f65e4b",
   "metadata": {},
   "outputs": [
    {
     "name": "stdout",
     "output_type": "stream",
     "text": [
      "The list after multiply by 2 is : [20, 18, 22, 24]\n"
     ]
    }
   ],
   "source": [
    "##  24. Multiply all elements in a list by 2.\n",
    "list_9 = [10, 9,11,12]\n",
    "result = [element*2 for element in list_9]\n",
    "print(\"The list after multiply by 2 is :\",result)"
   ]
  },
  {
   "cell_type": "code",
   "execution_count": 52,
   "id": "c0bd1166-31ef-488c-848b-6d11a27b907d",
   "metadata": {},
   "outputs": [
    {
     "name": "stdout",
     "output_type": "stream",
     "text": [
      "All even numbers from a list : [2, 4, 6, 8]\n"
     ]
    }
   ],
   "source": [
    "##  25. Filter out all even numbers from a list.\n",
    "list_10 = [1, 2, 3, 4, 5, 6, 7, 8]\n",
    "result = [element for element in list_10 if element%2 == 0]\n",
    "print(\"All even numbers from a list :\",result)"
   ]
  },
  {
   "cell_type": "code",
   "execution_count": 53,
   "id": "058d37b6-9631-4e03-a070-50af108398fb",
   "metadata": {},
   "outputs": [
    {
     "name": "stdout",
     "output_type": "stream",
     "text": [
      "String list ['1', '2', '3', '4', '5', '6'] after conversion into integer list  [1, 2, 3, 4, 5, 6]\n"
     ]
    }
   ],
   "source": [
    "##  26. Convert a list of strings to a list of integers.\n",
    "string_list = [\"1\",\"2\",\"3\",\"4\",\"5\",\"6\"]\n",
    "integer_list = [int(x) for x in string_list]\n",
    "print(\"String list\",string_list,\"after conversion into integer list \",integer_list)"
   ]
  },
  {
   "cell_type": "code",
   "execution_count": 54,
   "id": "a1e28bc1-68e7-4e0f-a66b-209a63e8251b",
   "metadata": {},
   "outputs": [
    {
     "name": "stdout",
     "output_type": "stream",
     "text": [
      "Integer list  [1, 2, 3, 4, 5, 6, 7, 8, 9, 10] after conversion into string list  ['1', '2', '3', '4', '5', '6', '7', '8', '9', '10']\n"
     ]
    }
   ],
   "source": [
    "##  27. Convert a list of integers to a list of strings.\n",
    "integer_list = [1,2,3,4,5,6,7,8,9,10]\n",
    "string_list = [str(x) for x in integer_list]\n",
    "print(\"Integer list \",integer_list,\"after conversion into string list \",string_list)"
   ]
  },
  {
   "cell_type": "code",
   "execution_count": 55,
   "id": "76cff4d4-add9-4cc8-9e6f-729d354466b2",
   "metadata": {},
   "outputs": [
    {
     "name": "stdout",
     "output_type": "stream",
     "text": [
      "Nested list: [1, [2, 3, [4, 5]], 6, [7, 8]]\n",
      "Flattened list: [1, 2, 3, 4, 5, 6, 7, 8]\n"
     ]
    }
   ],
   "source": [
    "##  28. Flatten a nested list.\n",
    "def flatten_list(nested_list):\n",
    "    flattened_list = []\n",
    "    for element in nested_list:\n",
    "        if isinstance(element, list):\n",
    "            flattened_list.extend(flatten_list(element))\n",
    "        else:\n",
    "            flattened_list.append(element)\n",
    "    return flattened_list\n",
    "\n",
    "# Example usage:\n",
    "nested_list = [1, [2, 3, [4, 5]], 6, [7, 8]]\n",
    "flat_list = flatten_list(nested_list)\n",
    "\n",
    "print(\"Nested list:\", nested_list)\n",
    "print(\"Flattened list:\", flat_list)"
   ]
  },
  {
   "cell_type": "code",
   "execution_count": 56,
   "id": "c6e9d495-ba52-4ad0-8c7d-0f6186fd2de2",
   "metadata": {},
   "outputs": [
    {
     "name": "stdout",
     "output_type": "stream",
     "text": [
      "A list of the first 10 Fibonacci numbers: [0, 1, 1, 2, 3, 5, 8, 13, 21, 34]\n"
     ]
    }
   ],
   "source": [
    "##  29. Create a list of the first 10 Fibonacci numbers.\n",
    "def fib_num(n):\n",
    "    if n == 0:\n",
    "        return 0\n",
    "    elif n == 1:\n",
    "        return 1\n",
    "    else:\n",
    "        return fib_num(n-1) + fib_num(n-2)\n",
    "\n",
    "fib_list = [fib_num(num) for num in range(10)]\n",
    "print(\"A list of the first 10 Fibonacci numbers:\", fib_list)\n"
   ]
  },
  {
   "cell_type": "code",
   "execution_count": 57,
   "id": "9947f6ea-979c-492b-870d-2d9afa5610cf",
   "metadata": {},
   "outputs": [
    {
     "name": "stdout",
     "output_type": "stream",
     "text": [
      "Is sorted_list sorted? True\n",
      "Is unsorted_list sorted? False\n"
     ]
    }
   ],
   "source": [
    "##  30. Check if a list is sorted.\n",
    "def is_sorted(input_list):\n",
    "    for i in range(len(input_list) - 1):\n",
    "        if input_list[i] > input_list[i + 1]:\n",
    "            return False\n",
    "    return True\n",
    "\n",
    "# Example usage:\n",
    "sorted_list = [1, 2, 3, 4, 5]\n",
    "unsorted_list = [3, 1, 4, 1, 5, 9, 2, 6, 5]\n",
    "\n",
    "print(\"Is sorted_list sorted?\", is_sorted(sorted_list))\n",
    "print(\"Is unsorted_list sorted?\", is_sorted(unsorted_list))"
   ]
  },
  {
   "cell_type": "code",
   "execution_count": 58,
   "id": "678d3ea6-651e-4fe7-8284-6cdbfe855bfe",
   "metadata": {},
   "outputs": [
    {
     "name": "stdout",
     "output_type": "stream",
     "text": [
      "The original list : [1, 2, 3, 4, 5, 6, 7]\n",
      "The rotated list : [4, 5, 6, 7, 1, 2, 3]\n"
     ]
    }
   ],
   "source": [
    "##  31. Rotate a list to the left by `n` positions.\n",
    "def rotate_left(input_list,n):\n",
    "    length = len(input_list)\n",
    "    n = n % length  # Handle cases where n is greater than the length of the list\n",
    "    rotated_list = input_list[n:] + input_list[:n]\n",
    "    return  rotated_list\n",
    "\n",
    "original_list = [1,2,3,4,5,6,7]\n",
    "rotated_list = rotate_left(original_list,3)\n",
    "print(\"The original list :\",original_list)\n",
    "print(\"The rotated list :\",rotated_list)"
   ]
  },
  {
   "cell_type": "code",
   "execution_count": 59,
   "id": "0eb4d7cf-ea41-449e-8d6b-ed93c2f429a2",
   "metadata": {},
   "outputs": [
    {
     "name": "stdout",
     "output_type": "stream",
     "text": [
      "The original list : [1, 2, 3, 4, 5, 6, 7]\n",
      "The rotated list : [5, 6, 7, 1, 2, 3, 4]\n"
     ]
    }
   ],
   "source": [
    "##  32. Rotate a list to the right by `n` positions.\n",
    "def rotate_right(input_list, n):\n",
    "    length = len(input_list)\n",
    "    n = n % length  # Handle cases where n is greater than the length of the list\n",
    "    rotated_list = input_list[-n : ] + input_list[ : -n]\n",
    "    return rotated_list\n",
    "\n",
    "original_list = [1,2,3,4,5,6,7]\n",
    "rotated_list_1 = rotate_right(original_list,3)\n",
    "print(\"The original list :\",original_list)\n",
    "print(\"The rotated list :\",rotated_list_1)"
   ]
  },
  {
   "cell_type": "code",
   "execution_count": 60,
   "id": "a5f2fc1a-1cd9-4944-b508-20c725f5633a",
   "metadata": {},
   "outputs": [
    {
     "name": "stdout",
     "output_type": "stream",
     "text": [
      "Prime numbers up to 50 : [2, 3, 5, 7, 11, 13, 17, 19, 23, 29, 31, 37, 41, 43, 47]\n"
     ]
    }
   ],
   "source": [
    "##  33. Create a list of prime numbers up to 50.\n",
    "def is_prime(num):\n",
    "    if num < 2:\n",
    "        return False\n",
    "    for i in range(2, int(num**0.5) + 1):\n",
    "        if num % i == 0:\n",
    "            return False\n",
    "    return True\n",
    "\n",
    "def generate_primes(limit):\n",
    "    prime_list = [num for num in range(2, limit) if is_prime(num)]\n",
    "    return prime_list\n",
    "\n",
    "# Example usage:\n",
    "limit = 50\n",
    "prime_numbers = generate_primes(limit)\n",
    "\n",
    "print(\"Prime numbers up to\", limit, \":\", prime_numbers)\n"
   ]
  },
  {
   "cell_type": "code",
   "execution_count": 61,
   "id": "7e7033c6-6267-416b-a199-5ac7c7373b37",
   "metadata": {},
   "outputs": [
    {
     "name": "stdout",
     "output_type": "stream",
     "text": [
      "Original list: [1, 2, 3, 4, 5, 6, 7, 8, 9, 10]\n",
      "Chunked list: [[1, 2, 3], [4, 5, 6], [7, 8, 9], [10]]\n"
     ]
    }
   ],
   "source": [
    "##  34. Split a list into chunks of size `n`.\n",
    "def split_into_chunks(input_list, chunk_size):\n",
    "    return [input_list[i:i + chunk_size] for i in range(0, len(input_list), chunk_size)]\n",
    "\n",
    "# Example usage:\n",
    "original_list = [1, 2, 3, 4, 5, 6, 7, 8, 9, 10]\n",
    "\n",
    "# Split the list into chunks of size 3\n",
    "chunked_list = split_into_chunks(original_list, 3)\n",
    "\n",
    "print(\"Original list:\", original_list)\n",
    "print(\"Chunked list:\", chunked_list)"
   ]
  },
  {
   "cell_type": "code",
   "execution_count": 62,
   "id": "1185dab1-e2f6-4d25-915b-933287b4b41b",
   "metadata": {},
   "outputs": [
    {
     "name": "stdout",
     "output_type": "stream",
     "text": [
      "The second largest number in the list is 8.\n"
     ]
    }
   ],
   "source": [
    "##  35. Find the second largest number in a list.\n",
    "my_list = [1, 2, 3, 4, 5, 6, 7, 8, 9]\n",
    "largest = None\n",
    "second_largest = None\n",
    "\n",
    "for num in my_list:\n",
    "    if not largest or num > largest:\n",
    "        if largest:\n",
    "            second_largest = largest\n",
    "        largest = num\n",
    "    elif not second_largest or num > second_largest:\n",
    "        second_largest = num\n",
    "\n",
    "print(f\"The second largest number in the list is {second_largest}.\")"
   ]
  },
  {
   "cell_type": "code",
   "execution_count": 64,
   "id": "4b0abacf-e65a-430e-a8c7-f01e922d604a",
   "metadata": {},
   "outputs": [
    {
     "name": "stdout",
     "output_type": "stream",
     "text": [
      "The original list: [1, 4, 9, 16, 25]\n"
     ]
    }
   ],
   "source": [
    "##  36. Replace every element in a list with its square.\n",
    "my_list = [1, 2, 3, 4, 5]\n",
    "for i in range(len(my_list)):\n",
    "    my_list[i] = my_list[i] ** 2\n",
    "\n",
    "print(f\"The original list: {my_list}\")"
   ]
  },
  {
   "cell_type": "code",
   "execution_count": 65,
   "id": "0f7c8973-2b27-4435-be17-1ba49a625724",
   "metadata": {},
   "outputs": [
    {
     "name": "stdout",
     "output_type": "stream",
     "text": [
      "list into dictionary conversion {'APPLE': 0, 'BANAna': 1, 'grapes': 2, 'gauva': 3, 'cherry': 4}\n"
     ]
    }
   ],
   "source": [
    "##  37. Convert a list to a dictionary where list elements become keys and their indices become values.\n",
    "my_LIST = [\"APPLE\",\"BANAna\",\"grapes\",\"gauva\",\"cherry\"]\n",
    "my_dict = {my_LIST[i] : i for i in range(len(my_LIST))}\n",
    "print(\"list into dictionary conversion\",my_dict)"
   ]
  },
  {
   "cell_type": "code",
   "execution_count": 66,
   "id": "3b237ab2-65b4-4687-8f99-4022b24d6b48",
   "metadata": {},
   "outputs": [
    {
     "name": "stdout",
     "output_type": "stream",
     "text": [
      "[5, 2, 10, 1, 7, 6, 3, 9, 8, 4]\n"
     ]
    }
   ],
   "source": [
    "##   38. Shuffle the elements of a list randomly.\n",
    "import random\n",
    "my_list = [1,2,3,4,5,6,7,8,9,10]\n",
    "random.shuffle(my_list)\n",
    "print(my_list)"
   ]
  },
  {
   "cell_type": "code",
   "execution_count": 67,
   "id": "424d182d-d11e-48c6-9a21-29cbd88747cd",
   "metadata": {},
   "outputs": [
    {
     "name": "stdout",
     "output_type": "stream",
     "text": [
      "The list of first 10 factorial numbers  [1, 1, 2, 6, 24, 120, 720, 5040, 40320, 362880]\n"
     ]
    }
   ],
   "source": [
    "##  39. Create a list of the first 10 factorial numbers.\n",
    "\n",
    "def fact_num(num):\n",
    "    if num == 0 or num == 1:\n",
    "        return 1\n",
    "    else:\n",
    "        return num * fact_num(num-1)\n",
    "\n",
    "fact_list = [fact_num(num) for num in range(10)]\n",
    "print(\"The list of first 10 factorial numbers \",fact_list)"
   ]
  },
  {
   "cell_type": "code",
   "execution_count": 68,
   "id": "cb5c09f0-d8b9-4e1f-a507-5bb41ec7ee3d",
   "metadata": {},
   "outputs": [
    {
     "name": "stdout",
     "output_type": "stream",
     "text": [
      "Is there at least one element common in two lists:  True\n"
     ]
    }
   ],
   "source": [
    "##  40. Check if two lists have at least one element in common.\n",
    "list_1 = [10,1,21,14,13,15,16]\n",
    "list_2 = [1,2,3,4,5,6,7,8]\n",
    "def common_element(list_1,list_2):\n",
    "    for i in list_1:\n",
    "        if i in list_2:\n",
    "            return True\n",
    "        \n",
    "    return False\n",
    "        \n",
    "result = common_element(list_1,list_2)\n",
    "print(\"Is there at least one element common in two lists: \",result)"
   ]
  },
  {
   "cell_type": "code",
   "execution_count": 69,
   "id": "ca44cb9c-6b2a-465d-988e-e05cf81babce",
   "metadata": {},
   "outputs": [
    {
     "name": "stdout",
     "output_type": "stream",
     "text": [
      "List 1 after removing all elements from a list []\n"
     ]
    }
   ],
   "source": [
    "##  41. Remove all elements from a list.\n",
    "list_1 = [10,1,21,14,13,15,16]\n",
    "list_1.clear()\n",
    "print(\"List 1 after removing all elements from a list\",list_1)"
   ]
  },
  {
   "cell_type": "code",
   "execution_count": 70,
   "id": "1c9eaa3c-b940-4505-8d85-1e7472ffadc0",
   "metadata": {},
   "outputs": [
    {
     "name": "stdout",
     "output_type": "stream",
     "text": [
      "The list after replaing negative number with zero [1, 2, 0, 0, 0, 7, 8, 9, 10]\n"
     ]
    }
   ],
   "source": [
    "##  42. Replace negative numbers in a list with 0.\n",
    "def replace_neg(list_1):\n",
    "    for i in range(len(list_1)):\n",
    "        if list_1[i] < 0 :\n",
    "            list_1[i] = 0\n",
    "    return list_1\n",
    "\n",
    "list_1 = [1,2,-2,-4,-6,7,8,9,10]\n",
    "neg_replace_with_zero = replace_neg(list_1)\n",
    "print(\"The list after replaing negative number with zero\",neg_replace_with_zero)"
   ]
  },
  {
   "cell_type": "code",
   "execution_count": 71,
   "id": "9216c3a3-9fcf-46f1-803b-f602022c164c",
   "metadata": {},
   "outputs": [
    {
     "name": "stdout",
     "output_type": "stream",
     "text": [
      "The string converting a list of words : ['Apple', 'is', 'a', 'fruit', 'which', 'is', 'found', 'in', 'himalayan', 'region.']\n"
     ]
    }
   ],
   "source": [
    "##  43. Convert a string into a list of words.\n",
    "string_1 = \"Apple is a fruit which is found in himalayan region.\"\n",
    "str_into_list = string_1.split()\n",
    "print(\"The string converting a list of words :\",str_into_list)"
   ]
  },
  {
   "cell_type": "code",
   "execution_count": 72,
   "id": "305769bd-c06b-46fc-a186-81aa48dc1a5c",
   "metadata": {},
   "outputs": [
    {
     "name": "stdout",
     "output_type": "stream",
     "text": [
      "A list of words converting into a sring : Apple is a fruit which is found in himalayan region.\n"
     ]
    }
   ],
   "source": [
    "##  44. Convert a list of words into a string.\n",
    "string_1 =  ['Apple', 'is', 'a', 'fruit', 'which', 'is', 'found', 'in', 'himalayan', 'region.']\n",
    "list_into_str = (\" \".join(string_1))\n",
    "print(\"A list of words converting into a sring :\",list_into_str)"
   ]
  },
  {
   "cell_type": "code",
   "execution_count": 73,
   "id": "a42d2c9c-5741-47d3-9730-c6a949f70c20",
   "metadata": {},
   "outputs": [
    {
     "name": "stdout",
     "output_type": "stream",
     "text": [
      "The first 'n' powers of 2 are : [1, 2, 4, 8, 16, 32, 64, 128, 256, 512]\n"
     ]
    }
   ],
   "source": [
    "##  45. Create a list of the first `n` powers of 2.\n",
    "n = 10\n",
    "power_of_two_list = [2 ** i for i in range(n)]\n",
    "print(\"The first 'n' powers of 2 are :\",power_of_two_list)"
   ]
  },
  {
   "cell_type": "code",
   "execution_count": 74,
   "id": "837f9b40-2816-4a9d-ac51-547c0b0286b7",
   "metadata": {},
   "outputs": [
    {
     "name": "stdout",
     "output_type": "stream",
     "text": [
      "Longest string in the list: strawberry\n"
     ]
    }
   ],
   "source": [
    "##  46. Find the longest string in a list of strings.\n",
    "# Function to find the longest string in a list\n",
    "def longest_string(lst):\n",
    "    if not lst:\n",
    "        return \"List is empty\"\n",
    "    \n",
    "    max_length = 0\n",
    "    longest_str = \"\"\n",
    "\n",
    "    for string in lst:\n",
    "        if isinstance(string, str):  # Check if the element is a string\n",
    "            if len(string) > max_length:\n",
    "                max_length = len(string)\n",
    "                longest_str = string\n",
    "\n",
    "    if not longest_str:\n",
    "        return \"No valid string found in the list\"\n",
    "\n",
    "    return longest_str\n",
    "\n",
    "# Example: List of strings\n",
    "string_list = [\"apple\", \"banana\", \"kiwi\", \"orange\", \"strawberry\", \"blueberry\"]\n",
    "\n",
    "# Find and display the longest string\n",
    "result = longest_string(string_list)\n",
    "print(\"Longest string in the list:\", result)"
   ]
  },
  {
   "cell_type": "code",
   "execution_count": 75,
   "id": "c9d665b2-5fc4-4813-ada3-212d75b7ecb1",
   "metadata": {},
   "outputs": [
    {
     "name": "stdout",
     "output_type": "stream",
     "text": [
      "Shortest string in the list: kiwi\n"
     ]
    }
   ],
   "source": [
    "##  47. Find the shortest string in a list of strings.\n",
    "# Function to find the shortest string in a list\n",
    "def shortest_string(lst):\n",
    "    if not lst:\n",
    "        return \"List is empty\"\n",
    "    \n",
    "    min_length = float('inf')\n",
    "    shortest_str = \"\"\n",
    "\n",
    "    for string in lst:\n",
    "        if isinstance(string, str):  # Check if the element is a string\n",
    "            if len(string) < min_length:\n",
    "                min_length = len(string)\n",
    "                shortest_str = string\n",
    "\n",
    "    if not shortest_str:\n",
    "        return \"No valid string found in the list\"\n",
    "\n",
    "    return shortest_str\n",
    "\n",
    "# Example: List of strings\n",
    "string_list = [\"apple\", \"banana\", \"kiwi\", \"orange\", \"strawberry\", \"blueberry\"]\n",
    "\n",
    "# Find and display the shortest string\n",
    "result = shortest_string(string_list)\n",
    "print(\"Shortest string in the list:\", result)"
   ]
  },
  {
   "cell_type": "code",
   "execution_count": 76,
   "id": "00bf4084-5b76-4472-a70d-bab87f27311a",
   "metadata": {},
   "outputs": [
    {
     "name": "stdout",
     "output_type": "stream",
     "text": [
      "List of the first 5 triangular numbers: [1, 3, 6, 10, 15]\n"
     ]
    }
   ],
   "source": [
    "##  48. Create a list of the first `n` triangular numbers.\n",
    "def generate_triangular_numbers(n):\n",
    "    triangular_numbers = [(i * (i + 1)) // 2 for i in range(1, n + 1)]\n",
    "    return triangular_numbers\n",
    "\n",
    "# Example: Generating the first 5 triangular numbers\n",
    "n = 5\n",
    "triangular_numbers_list = generate_triangular_numbers(n)\n",
    "print(\"List of the first {} triangular numbers:\".format(n), triangular_numbers_list)"
   ]
  },
  {
   "cell_type": "code",
   "execution_count": 77,
   "id": "6086118e-dd0e-443d-b439-ffda6bced7c7",
   "metadata": {},
   "outputs": [
    {
     "name": "stdout",
     "output_type": "stream",
     "text": [
      "Is list2 a subsequence of list1? True\n"
     ]
    }
   ],
   "source": [
    "##   49. Check if a list contains another list as a subsequence.\n",
    "def is_subsequence(list1, list2):\n",
    "    # Initialize indices for both lists\n",
    "    i, j = 0, 0\n",
    "\n",
    "    # Iterate through list1 to check if list2 is a subsequence\n",
    "    while i < len(list1) and j < len(list2):\n",
    "        if list1[i] == list2[j]:\n",
    "            j += 1  # Move to the next element in list2\n",
    "        i += 1  # Move to the next element in list1\n",
    "\n",
    "    # If all elements of list2 are found in order, it is a subsequence\n",
    "    return j == len(list2)\n",
    "\n",
    "# Example usage:\n",
    "list1 = [1, 2, 3, 4, 5, 6, 7, 8]\n",
    "list2 = [3, 5, 7]\n",
    "\n",
    "result = is_subsequence(list1, list2)\n",
    "print(\"Is list2 a subsequence of list1?\", result)   #Checking list is subsequence or not.\n"
   ]
  },
  {
   "cell_type": "code",
   "execution_count": 78,
   "id": "3d168fd4-64e5-4cf4-9187-4cbefdfc87a7",
   "metadata": {},
   "outputs": [
    {
     "name": "stdout",
     "output_type": "stream",
     "text": [
      "Original list: [1, 2, 3, 4, 5]\n",
      "List after swapping elements at indices 1 and 3: [1, 4, 3, 2, 5]\n"
     ]
    }
   ],
   "source": [
    "##  50. Swap two elements in a list by their indices.\n",
    "    \n",
    "def swap_elements(lst, index1, index2):\n",
    "    # Check if indices are valid\n",
    "    if 0 <= index1 < len(lst) and 0 <= index2 < len(lst):\n",
    "        # Swap the elements at the specified indices\n",
    "        lst[index1], lst[index2] = lst[index2], lst[index1]\n",
    "    else:\n",
    "        print(\"Invalid indices provided.\")\n",
    "\n",
    "# Example usage:\n",
    "my_list = [1, 2, 3, 4, 5]\n",
    "print(\"Original list:\", my_list)\n",
    "\n",
    "# Swap elements at indices 1 and 3\n",
    "swap_elements(my_list, 1, 3)\n",
    "print(\"List after swapping elements at indices 1 and 3:\", my_list)"
   ]
  },
  {
   "cell_type": "markdown",
   "id": "1d9acc39-d511-4135-a95c-7ffa08522ee1",
   "metadata": {},
   "source": [
    "# ###########     TUPLE BASED PRACTICE PROBLEM      #############"
   ]
  },
  {
   "cell_type": "code",
   "execution_count": 79,
   "id": "346b4bb1-0580-4151-a19c-69710b9ed4a4",
   "metadata": {},
   "outputs": [
    {
     "name": "stdout",
     "output_type": "stream",
     "text": [
      "A tuple with integer from 1 to 5 : (1, 2, 3, 4, 5)\n"
     ]
    }
   ],
   "source": [
    "##  1. Create a tuple with integers from 1 to 5.\n",
    "tuple_1 = tuple(i for i in range(1,6))\n",
    "print(\"A tuple with integer from 1 to 5 :\",(tuple_1))"
   ]
  },
  {
   "cell_type": "code",
   "execution_count": 80,
   "id": "c7f2687e-2347-4c14-a5f1-8879eda909fb",
   "metadata": {},
   "outputs": [
    {
     "name": "stdout",
     "output_type": "stream",
     "text": [
      "The 3rd element of a tuple is  3\n"
     ]
    }
   ],
   "source": [
    "##  2. Access the third element of a tuple.\n",
    "tuple_1 = (1,2,3,4,5,6,7,8)\n",
    "print(\"The 3rd element of a tuple is \",tuple_1[2])"
   ]
  },
  {
   "cell_type": "code",
   "execution_count": 81,
   "id": "fdfb329f-92f8-4dca-81bc-522d55b84bd2",
   "metadata": {},
   "outputs": [
    {
     "name": "stdout",
     "output_type": "stream",
     "text": [
      "The length of the tuple is  8\n"
     ]
    }
   ],
   "source": [
    "##  3. Find the length of a tuple without using the `len()` function.\n",
    "tuple_1 = (1,2,3,4,5,6,7,8)\n",
    "def tuple_length(tuple_1):\n",
    "    length = 0\n",
    "    for i in tuple_1:\n",
    "        length += 1\n",
    "    return length\n",
    "\n",
    "print(\"The length of the tuple is \",tuple_length(tuple_1))"
   ]
  },
  {
   "cell_type": "code",
   "execution_count": 82,
   "id": "9bd54979-e548-411f-aac8-cf6b9739f315",
   "metadata": {},
   "outputs": [
    {
     "name": "stdout",
     "output_type": "stream",
     "text": [
      "Occurrences of 1 is : 2 times\n"
     ]
    }
   ],
   "source": [
    "##  4. Count the occurrences of an element in a tuple.\n",
    "tuple1 = (1,2,3,1,2,3,12,3)\n",
    "# Element to count occurences\n",
    "element_to_count = 1\n",
    "\n",
    "# Count occurencesof the element\n",
    "occurrences = tuple1.count(element_to_count)\n",
    "\n",
    "print(\"Occurrences of {} is : {} times\".format(element_to_count, occurrences))\n"
   ]
  },
  {
   "cell_type": "code",
   "execution_count": 83,
   "id": "6df78687-ec2a-4543-a23d-c99c6d150e70",
   "metadata": {},
   "outputs": [
    {
     "name": "stdout",
     "output_type": "stream",
     "text": [
      "Index of the first occurrence of 1: 0\n"
     ]
    }
   ],
   "source": [
    "##  5. Find the index of the first occurrence of an element in a tuple.\n",
    "# Create a tuple\n",
    "my_tuple = (1, 2, 3, 4, 1, 1, 5, 2)\n",
    "\n",
    "# Element to find the index\n",
    "element_to_find = 1\n",
    "\n",
    "try:\n",
    "    # Find the index of the first occurrence of the element\n",
    "    index_of_first_occurrence = my_tuple.index(element_to_find)\n",
    "\n",
    "    # Print the result\n",
    "    print(\"Index of the first occurrence of {}: {}\".format(element_to_find, index_of_first_occurrence))\n",
    "except ValueError:\n",
    "    print(\"{} not found in the tuple.\".format(element_to_find))"
   ]
  },
  {
   "cell_type": "code",
   "execution_count": 84,
   "id": "b124a7be-7760-435a-b151-cc050e750b53",
   "metadata": {},
   "outputs": [
    {
     "name": "stdout",
     "output_type": "stream",
     "text": [
      "3 exists in the tuple.\n"
     ]
    }
   ],
   "source": [
    "##  6. Check if an element exists in a tuple.\n",
    "# Create a tuple\n",
    "my_tuple = (1, 2, 3, 4, 1, 1, 5, 2)\n",
    "\n",
    "# Element to check existence\n",
    "element_to_check = 3\n",
    "\n",
    "# Check if the element exists in the tuple\n",
    "if element_to_check in my_tuple:\n",
    "    print(\"{} exists in the tuple.\".format(element_to_check))\n",
    "else:\n",
    "    print(\"{} does not exist in the tuple.\".format(element_to_check))"
   ]
  },
  {
   "cell_type": "code",
   "execution_count": 85,
   "id": "0462fa22-3f92-4f07-8565-a8c222bc0e28",
   "metadata": {},
   "outputs": [
    {
     "name": "stdout",
     "output_type": "stream",
     "text": [
      "After converting a tuple to a list  [1, 2, 3, 4, 1, 1, 5, 2]\n"
     ]
    }
   ],
   "source": [
    "##  7. Convert a tuple to a list.\n",
    "my_tuple = (1, 2, 3, 4, 1, 1, 5, 2)\n",
    "print(\"After converting a tuple to a list \",list(my_tuple))"
   ]
  },
  {
   "cell_type": "code",
   "execution_count": 86,
   "id": "95ae2bd6-8f0f-4b95-9d60-b809e61c705b",
   "metadata": {},
   "outputs": [
    {
     "name": "stdout",
     "output_type": "stream",
     "text": [
      "A list after converting into a tuple  (1, 2, 3, 1, 2, 3, 1, 3, 3, 1, 4, 5, 6, 7, 8, 9, 10)\n"
     ]
    }
   ],
   "source": [
    "##  8. Convert a list to a tuple.\n",
    "my_list = [1,2,3,1,2,3,1,3,3,1,4,5,6,7,8,9,10]\n",
    "print(\"A list after converting into a tuple \",tuple(my_list))"
   ]
  },
  {
   "cell_type": "code",
   "execution_count": 87,
   "id": "028dec57-07dc-431a-8c91-3bb255925172",
   "metadata": {},
   "outputs": [
    {
     "name": "stdout",
     "output_type": "stream",
     "text": [
      "Unpacked variables: 10 20 30\n"
     ]
    }
   ],
   "source": [
    "##  9. Unpack the elements of a tuple into variables.\n",
    "my_tuple = (10, 20, 30)\n",
    "# Unpack the elements into variables\n",
    "var1, var2, var3 = my_tuple\n",
    "\n",
    "print(\"Unpacked variables:\", var1, var2, var3)"
   ]
  },
  {
   "cell_type": "code",
   "execution_count": 88,
   "id": "1297982c-e814-48c2-b81a-dfdec7412690",
   "metadata": {},
   "outputs": [
    {
     "name": "stdout",
     "output_type": "stream",
     "text": [
      "The even number tuple : (2, 4, 6, 8, 10)\n"
     ]
    }
   ],
   "source": [
    "##  10. Create a tuple of even numbers from 1 to 10.\n",
    "even_num_tuple = tuple(i for i in range(1,11) if i % 2 == 0)\n",
    "print(\"The even number tuple :\",even_num_tuple)"
   ]
  },
  {
   "cell_type": "code",
   "execution_count": 89,
   "id": "3e6435ad-d1b7-4489-8a21-0b3359f43a69",
   "metadata": {},
   "outputs": [
    {
     "name": "stdout",
     "output_type": "stream",
     "text": [
      "The odd number tuple : (1, 3, 5, 7, 9)\n"
     ]
    }
   ],
   "source": [
    "##  11. Create a tuple of odd numbers from 1 to 10.\n",
    "odd_num_tuple  = tuple(i for i in range(1,11) if i % 2 != 0)\n",
    "print(\"The odd number tuple :\",odd_num_tuple)"
   ]
  },
  {
   "cell_type": "code",
   "execution_count": 90,
   "id": "7e955d85-f068-4e52-9837-2d1cbbdc19a6",
   "metadata": {},
   "outputs": [
    {
     "name": "stdout",
     "output_type": "stream",
     "text": [
      "After concatenating two tuples (1, 2, 3, 4, 5, 6, 7, 8, 'a', 'e', 'i', 'o', 'u')\n"
     ]
    }
   ],
   "source": [
    "##  12. Concatenate two tuples.\n",
    "tuple1 = (1,2,3,4,5,6,7,8)\n",
    "tuple2 = ('a','e','i','o','u')\n",
    "concatenate_tuple = tuple1 + tuple2\n",
    "print(\"After concatenating two tuples\",concatenate_tuple)"
   ]
  },
  {
   "cell_type": "code",
   "execution_count": 91,
   "id": "42648df2-fb57-4f04-9646-0db60914d677",
   "metadata": {},
   "outputs": [
    {
     "name": "stdout",
     "output_type": "stream",
     "text": [
      "Three times tuple is : (1, 2, 3, 4, 5, 6, 7, 8, 1, 2, 3, 4, 5, 6, 7, 8, 1, 2, 3, 4, 5, 6, 7, 8)\n"
     ]
    }
   ],
   "source": [
    "##  13. Repeat a tuple three times.\n",
    "tuple1 = (1,2,3,4,5,6,7,8)\n",
    "three_time_tuple = 3 * tuple1\n",
    "print(\"Three times tuple is :\",three_time_tuple)"
   ]
  },
  {
   "cell_type": "code",
   "execution_count": 93,
   "id": "7451ce90-8a35-4ac5-b327-567a1c72c600",
   "metadata": {},
   "outputs": [
    {
     "name": "stdout",
     "output_type": "stream",
     "text": [
      "The tuple is not empty.\n"
     ]
    }
   ],
   "source": [
    "##  14. Check if a tuple is empty.\n",
    "# Create an empty tuple\n",
    "empty_tuple = (2)\n",
    "\n",
    "# Check if the tuple is empty\n",
    "if not bool(empty_tuple):\n",
    "    print(\"The tuple is empty.\")\n",
    "else:\n",
    "    print(\"The tuple is not empty.\")"
   ]
  },
  {
   "cell_type": "code",
   "execution_count": 94,
   "id": "72cad584-f936-45a1-8545-f046693d2f66",
   "metadata": {},
   "outputs": [
    {
     "name": "stdout",
     "output_type": "stream",
     "text": [
      "The nested tuple: ((1, 2, 3), ('a', 'b', 'c'), (4, 5, 6))\n"
     ]
    }
   ],
   "source": [
    "##  15. Create a nested tuple.\n",
    "# Create a nested tuple\n",
    "nested_tuple = ((1, 2, 3), ('a', 'b', 'c'), (4, 5, 6))\n",
    "\n",
    "# Print the nested tuple\n",
    "print(\"The nested tuple:\", nested_tuple)"
   ]
  },
  {
   "cell_type": "code",
   "execution_count": 95,
   "id": "c6f6d07c-8ad1-4e17-a3fe-5aeaa12af470",
   "metadata": {},
   "outputs": [
    {
     "name": "stdout",
     "output_type": "stream",
     "text": [
      "The first element of the nested tuple: (1, 2, 3)\n"
     ]
    }
   ],
   "source": [
    "##  16. Access the first element of a nested tuple.\n",
    "# Create a nested tuple\n",
    "nested_tuple = ((1, 2, 3), ('a', 'b', 'c'), (4, 5, 6))\n",
    "\n",
    "# Access the first element of the nested tuple\n",
    "first_element = nested_tuple[0]\n",
    "\n",
    "# Print the result\n",
    "print(\"The first element of the nested tuple:\", first_element)"
   ]
  },
  {
   "cell_type": "code",
   "execution_count": 96,
   "id": "88cc5b98-54c5-4fab-8f2a-498d1f50b5cc",
   "metadata": {},
   "outputs": [
    {
     "name": "stdout",
     "output_type": "stream",
     "text": [
      "<class 'tuple'>\n"
     ]
    }
   ],
   "source": [
    "##  17. Create a tuple with a single element.\n",
    "single_element_tuple = (2,)\n",
    "# Creating a tuple with a single element.\n",
    "print(type(single_element_tuple))  # Type casting"
   ]
  },
  {
   "cell_type": "code",
   "execution_count": 97,
   "id": "9488bc68-aeee-43f3-aa2d-4bf0e2432357",
   "metadata": {},
   "outputs": [
    {
     "name": "stdout",
     "output_type": "stream",
     "text": [
      "Both Tuples are equal.\n"
     ]
    }
   ],
   "source": [
    "##  18. Compare two tuples.\n",
    "tuple1 = (1, 2, 3)\n",
    "tuple2 = (1, 2, 3)\n",
    "\n",
    "# Compare the tuples\n",
    "if tuple1 == tuple2:\n",
    "    print(\"Both Tuples are equal.\")\n",
    "else:\n",
    "    print(\"Both Tuples are not equal.\")"
   ]
  },
  {
   "cell_type": "code",
   "execution_count": 98,
   "id": "e5d9c79f-aff9-4250-9eb2-734404bb2129",
   "metadata": {},
   "outputs": [
    {
     "ename": "NameError",
     "evalue": "name 'tuple_1' is not defined",
     "output_type": "error",
     "traceback": [
      "\u001b[0;31m---------------------------------------------------------------------------\u001b[0m",
      "\u001b[0;31mNameError\u001b[0m                                 Traceback (most recent call last)",
      "Cell \u001b[0;32mIn[98], line 4\u001b[0m\n\u001b[1;32m      2\u001b[0m tuple_1 \u001b[38;5;241m=\u001b[39m (\u001b[38;5;241m2\u001b[39m,\u001b[38;5;241m1\u001b[39m,\u001b[38;5;241m34\u001b[39m,\u001b[38;5;241m5\u001b[39m,\u001b[38;5;241m3\u001b[39m,\u001b[38;5;241m53\u001b[39m,\u001b[38;5;241m2\u001b[39m,\u001b[38;5;241m68\u001b[39m,\u001b[38;5;241m68\u001b[39m,\u001b[38;5;241m90\u001b[39m,\u001b[38;5;241m10\u001b[39m)\n\u001b[1;32m      3\u001b[0m \u001b[38;5;28;01mdel\u001b[39;00m tuple_1\n\u001b[0;32m----> 4\u001b[0m \u001b[38;5;28mprint\u001b[39m(\u001b[43mtuple_1\u001b[49m)\n",
      "\u001b[0;31mNameError\u001b[0m: name 'tuple_1' is not defined"
     ]
    }
   ],
   "source": [
    "##  19. Delete a tuple.\n",
    "tuple_1 = (2,1,34,5,3,53,2,68,68,90,10)\n",
    "del tuple_1\n",
    "print(tuple_1)"
   ]
  },
  {
   "cell_type": "code",
   "execution_count": 99,
   "id": "f6f370c1-7662-45d7-be69-78c67fc5bf33",
   "metadata": {},
   "outputs": [
    {
     "name": "stdout",
     "output_type": "stream",
     "text": [
      "Sliced Tuple : (34, 5, 3, 53)\n"
     ]
    }
   ],
   "source": [
    "##  20. Slice a tuple.\n",
    "tuple_1 = (2,1,34,5,3,53,2,68,68,90,10)\n",
    "sliced_tuple = tuple_1[2:6]\n",
    "print(\"Sliced Tuple :\",sliced_tuple)"
   ]
  },
  {
   "cell_type": "code",
   "execution_count": 100,
   "id": "d12966d9-02fa-460f-a79e-4b2124bcabc9",
   "metadata": {},
   "outputs": [
    {
     "name": "stdout",
     "output_type": "stream",
     "text": [
      "The maximum value in a tuple : 90\n"
     ]
    }
   ],
   "source": [
    "##  21. Find the maximum value in a tuple.\n",
    "tuple_1 = (2,1,34,5,3,53,2,68,68,90,10)\n",
    "def max_value(tuple_1):\n",
    "    max_num = tuple_1[0]\n",
    "    for i in range(len(tuple_1)):\n",
    "        if tuple_1[i] > max_num :\n",
    "            max_num = tuple_1[i]\n",
    "    return max_num\n",
    "\n",
    "print(\"The maximum value in a tuple :\",max_value(tuple_1))"
   ]
  },
  {
   "cell_type": "code",
   "execution_count": 101,
   "id": "af0940c6-7230-4696-9fa6-d5efa84016d4",
   "metadata": {},
   "outputs": [
    {
     "name": "stdout",
     "output_type": "stream",
     "text": [
      "The minimum value in a tuple : 1\n"
     ]
    }
   ],
   "source": [
    "##  22. Find the minimum value in a tuple.\n",
    "tuple_1 = (2,1,34,5,3,53,2,68,68,90,10)\n",
    "def min_value(tuple_1):\n",
    "    min_num = tuple_1[0]\n",
    "    for i in range(len(tuple_1)):\n",
    "        if tuple_1[i] < min_num :\n",
    "            min_num = tuple_1[i]\n",
    "    return min_num\n",
    "\n",
    "print(\"The minimum value in a tuple :\",min_value(tuple_1))"
   ]
  },
  {
   "cell_type": "code",
   "execution_count": 103,
   "id": "adfe894d-77b3-4d0c-86be-416c6ca1d989",
   "metadata": {},
   "outputs": [
    {
     "name": "stdout",
     "output_type": "stream",
     "text": [
      "After converting a string to a tuple of characters ('I', 'am', 'pwskills', 'student.')\n"
     ]
    }
   ],
   "source": [
    "##  23. Convert a string to a tuple of characters.\n",
    "string_3 = \"I am pwskills student.\"\n",
    "tuple_str = tuple(string_3.split())\n",
    "print(\"After converting a string to a tuple of characters\",tuple_str)"
   ]
  },
  {
   "cell_type": "code",
   "execution_count": 104,
   "id": "4f6e09ef-f07d-4ae0-9a95-e342f5a799ef",
   "metadata": {},
   "outputs": [
    {
     "name": "stdout",
     "output_type": "stream",
     "text": [
      "After conversion of tuple of characters to a string  I am pwskills student.\n"
     ]
    }
   ],
   "source": [
    "##  24. Convert a tuple of characters to a string.\n",
    "str_tuple = ('I', 'am', 'pwskills', 'student.')\n",
    "tuple_to_str = (\" \".join(str_tuple))\n",
    "print(\"After conversion of tuple of characters to a string \",tuple_to_str)"
   ]
  },
  {
   "cell_type": "code",
   "execution_count": 105,
   "id": "1ba9769e-1843-4456-b46c-3878b47dab0e",
   "metadata": {},
   "outputs": [
    {
     "name": "stdout",
     "output_type": "stream",
     "text": [
      "A tuple with multiple data types  ('string', 1234, True, 123456.78, [5, 6])\n"
     ]
    }
   ],
   "source": [
    "##  25. Create a tuple from multiple data types.\n",
    "tuple_diff_data = (\"string\",1234,True,123456.78,[5,6]) #Creating tuple with multiple data types\n",
    "print(\"A tuple with multiple data types \",tuple_diff_data)"
   ]
  },
  {
   "cell_type": "code",
   "execution_count": 106,
   "id": "2ee31f2a-fb3d-4280-b588-6e75fdb5be74",
   "metadata": {},
   "outputs": [
    {
     "name": "stdout",
     "output_type": "stream",
     "text": [
      "Are the two tuples identical? True\n"
     ]
    }
   ],
   "source": [
    "##  26. Check if two tuples are identical.\n",
    "# Define two tuples\n",
    "tuple1 = (1, 2, 3, \"apple\")\n",
    "tuple2 = (1, 2, 3, \"apple\")\n",
    "\n",
    "# Check if two tuples are identical\n",
    "are_identical = tuple1 == tuple2\n",
    "\n",
    "# Display the result\n",
    "print(\"Are the two tuples identical?\", are_identical)"
   ]
  },
  {
   "cell_type": "code",
   "execution_count": 107,
   "id": "17714ca3-1cc8-40a2-8002-5f5946dc1435",
   "metadata": {},
   "outputs": [
    {
     "name": "stdout",
     "output_type": "stream",
     "text": [
      "The sorted elements of a tuple  (1, 4, 4, 5, 5, 7, 9, 23, 78)\n"
     ]
    }
   ],
   "source": [
    "##  27. Sort the elements of a tuple.\n",
    "tuple_4 = (4,5,7,9,1,23,4,5,78)\n",
    "sorted_tuple = tuple(sorted(list(tuple_4)))\n",
    "print(\"The sorted elements of a tuple \",sorted_tuple)"
   ]
  },
  {
   "cell_type": "code",
   "execution_count": 108,
   "id": "7d064916-5968-4db0-958d-8fd4f1ea63a4",
   "metadata": {},
   "outputs": [
    {
     "name": "stdout",
     "output_type": "stream",
     "text": [
      "Original Tuple of Integers: (1, 2, 3, 4, 5)\n",
      "Tuple of Strings: ('1', '2', '3', '4', '5')\n"
     ]
    }
   ],
   "source": [
    "##  28. Convert a tuple of integers to a tuple of strings.\n",
    "# Define a tuple of integers\n",
    "tuple_of_integers = (1, 2, 3, 4, 5)\n",
    "\n",
    "# Convert the tuple of integers to a tuple of strings\n",
    "tuple_of_strings = tuple(map(str, tuple_of_integers))\n",
    "\n",
    "# Display the original tuple and the converted tuple\n",
    "print(\"Original Tuple of Integers:\", tuple_of_integers)\n",
    "print(\"Tuple of Strings:\", tuple_of_strings)"
   ]
  },
  {
   "cell_type": "code",
   "execution_count": 109,
   "id": "9ec52193-8cd2-431f-b235-8dbdbfaa061c",
   "metadata": {},
   "outputs": [
    {
     "name": "stdout",
     "output_type": "stream",
     "text": [
      "Original Tuple of Strings: ('1', '2', '3', '4', '5')\n",
      "Tuple of Integers: (1, 2, 3, 4, 5)\n"
     ]
    }
   ],
   "source": [
    "##  29. Convert a tuple of strings to a tuple of integers.\n",
    "# Define a tuple of strings\n",
    "tuple_of_strings = ('1', '2', '3', '4', '5')\n",
    "\n",
    "# Convert the tuple of strings to a tuple of integers\n",
    "tuple_of_integers = tuple(map(int, tuple_of_strings))\n",
    "\n",
    "# Display the original tuple and the converted tuple\n",
    "print(\"Original Tuple of Strings:\", tuple_of_strings)\n",
    "print(\"Tuple of Integers:\", tuple_of_integers)"
   ]
  },
  {
   "cell_type": "code",
   "execution_count": 110,
   "id": "1e9293b1-1469-4405-8f0d-ef49fa67ebf9",
   "metadata": {},
   "outputs": [
    {
     "name": "stdout",
     "output_type": "stream",
     "text": [
      "('a', 'b', 'c', 1, 2, 3)\n"
     ]
    }
   ],
   "source": [
    "##  30. Merge two tuples.\n",
    "# Initialize two tuples\n",
    "tuple1 = (\"a\", \"b\", \"c\")\n",
    "tuple2 = (1, 2, 3)\n",
    "\n",
    "# Merge the tuples\n",
    "tuple3 = tuple1 + tuple2\n",
    "\n",
    "# Print the merged tuple\n",
    "print(tuple3)"
   ]
  },
  {
   "cell_type": "code",
   "execution_count": 111,
   "id": "86ab9cbf-d9d9-48e5-80d6-23b98d6066ae",
   "metadata": {},
   "outputs": [
    {
     "name": "stdout",
     "output_type": "stream",
     "text": [
      "Original Nested Tuple: ((1, 2, 3), (4, 5, 6), (7, 8, 9))\n",
      "Flattened Tuple: (1, 2, 3, 4, 5, 6, 7, 8, 9)\n"
     ]
    }
   ],
   "source": [
    "##  31. Flatten a nested tuple.\n",
    "from itertools import chain\n",
    "\n",
    "# Define a nested tuple\n",
    "nested_tuple = ((1, 2, 3), (4, 5, 6), (7, 8, 9))\n",
    "\n",
    "# Flatten the nested tuple\n",
    "flattened_tuple = tuple(chain(*nested_tuple))\n",
    "\n",
    "# Display the original nested tuple and the flattened tuple\n",
    "print(\"Original Nested Tuple:\", nested_tuple)\n",
    "print(\"Flattened Tuple:\", flattened_tuple)"
   ]
  },
  {
   "cell_type": "code",
   "execution_count": 112,
   "id": "f62915eb-d0e9-4a40-a77d-abffb273e402",
   "metadata": {},
   "outputs": [
    {
     "name": "stdout",
     "output_type": "stream",
     "text": [
      "Tuple of the first 5 prime numbers: (2, 3, 5, 7, 11)\n"
     ]
    }
   ],
   "source": [
    "##  32. Create a tuple of the first 5 prime numbers.\n",
    "# Function to check if a number is prime\n",
    "def is_prime(num):\n",
    "    if num < 2:\n",
    "        return False\n",
    "    for i in range(2, int(num**0.5) + 1):\n",
    "        if num % i == 0:\n",
    "            return False\n",
    "    return True\n",
    "\n",
    "# Generate a tuple of the first 5 prime numbers using a loop\n",
    "prime_numbers = tuple(num for num in range(2, 20) if is_prime(num))[:5]\n",
    "\n",
    "# Display the tuple of prime numbers\n",
    "print(\"Tuple of the first 5 prime numbers:\", prime_numbers)"
   ]
  },
  {
   "cell_type": "code",
   "execution_count": 113,
   "id": "3ba7c9c7-91e7-4580-84ad-7b4c048795b3",
   "metadata": {},
   "outputs": [
    {
     "name": "stdout",
     "output_type": "stream",
     "text": [
      "Is the tuple a palindrome? True\n"
     ]
    }
   ],
   "source": [
    "##  33. Check if a tuple is a palindrome.\n",
    "# Define a function to check if a tuple is a palindrome\n",
    "def is_palindrome(tuple_to_check):\n",
    "    return tuple_to_check == tuple_to_check[::-1]\n",
    "\n",
    "# Test the function with an example\n",
    "example_tuple = (1, 2, 3, 2, 1)\n",
    "result = is_palindrome(example_tuple)\n",
    "\n",
    "# Display the result\n",
    "print(\"Is the tuple a palindrome?\", result)"
   ]
  },
  {
   "cell_type": "code",
   "execution_count": 114,
   "id": "7230c20b-c2f7-4939-805c-8938c2c00276",
   "metadata": {},
   "outputs": [
    {
     "name": "stdout",
     "output_type": "stream",
     "text": [
      "The square of the numbers 1-5 is  (1, 4, 9, 16, 25)\n"
     ]
    }
   ],
   "source": [
    "##  34. Create a tuple of squares of numbers from 1 to 5.\n",
    "sqr_tuple = (i**2 for i in range(1,6))\n",
    "print(\"The square of the numbers 1-5 is \",tuple(sqr_tuple))"
   ]
  },
  {
   "cell_type": "code",
   "execution_count": 115,
   "id": "c0f137ef-93ed-43c2-9676-81c2ad95ee3e",
   "metadata": {},
   "outputs": [
    {
     "name": "stdout",
     "output_type": "stream",
     "text": [
      "Original Tuple: (1, 2, 3, 4, 5, 6, 7, 8, 9, 10)\n",
      "Filtered Tuple (Odd numbers only): (1, 3, 5, 7, 9)\n"
     ]
    }
   ],
   "source": [
    "##  35. Filter out all even numbers from a tuple.\n",
    "# Function to check if a number is odd\n",
    "def is_odd(num):\n",
    "    return num % 2 != 0\n",
    "\n",
    "# Original tuple\n",
    "original_tuple = (1, 2, 3, 4, 5, 6, 7, 8, 9, 10)\n",
    "\n",
    "# Filter out even numbers from the tuple\n",
    "filtered_tuple = tuple(filter(is_odd, original_tuple))\n",
    "\n",
    "# Display the original and filtered tuples\n",
    "print(\"Original Tuple:\", original_tuple)\n",
    "print(\"Filtered Tuple (Odd numbers only):\", filtered_tuple)"
   ]
  },
  {
   "cell_type": "code",
   "execution_count": 116,
   "id": "9cf51e5e-1a73-4841-b9ac-6cdea74ce300",
   "metadata": {},
   "outputs": [
    {
     "name": "stdout",
     "output_type": "stream",
     "text": [
      "Multiplied Tuple Each element by 2): (2, 4, 6, 8, 10)\n"
     ]
    }
   ],
   "source": [
    "##  36. Multiply all elements in a tuple by 2.\n",
    "original_tuple = (1, 2, 3, 4, 5)\n",
    "\n",
    "# Multiply all elements in the tuple by 2\n",
    "multiplied_tuple = tuple(element * 2 for element in original_tuple)\n",
    "\n",
    "# Display the original and multiplied tuples\n",
    "print(\"Multiplied Tuple Each element by 2):\", multiplied_tuple)"
   ]
  },
  {
   "cell_type": "code",
   "execution_count": 117,
   "id": "4c0f6f26-9b5c-4952-b3a7-f44f38727e02",
   "metadata": {},
   "outputs": [
    {
     "name": "stdout",
     "output_type": "stream",
     "text": [
      "Random numbers : (46, 19, 68, 66, 97)\n"
     ]
    }
   ],
   "source": [
    "##  37. Create a tuple of random numbers.\n",
    "import random\n",
    "random_tuple  = tuple(random.randint(1,100) for i in range(5))\n",
    "print(\"Random numbers :\",random_tuple)"
   ]
  },
  {
   "cell_type": "code",
   "execution_count": 118,
   "id": "2e2967c5-2e3f-4145-a604-2730aa299912",
   "metadata": {},
   "outputs": [
    {
     "name": "stdout",
     "output_type": "stream",
     "text": [
      "Is the sorted tuple sorted? True\n",
      "Is the unsorted tuple sorted? False\n"
     ]
    }
   ],
   "source": [
    "##  38. Check if a tuple is sorted.\n",
    "# Function to check if a tuple is sorted\n",
    "def is_sorted(tuple_to_check):\n",
    "    return tuple_to_check == tuple(sorted(tuple_to_check))\n",
    "\n",
    "# Test the function with an example\n",
    "sorted_tuple = (1, 2, 3, 4, 5)\n",
    "unsorted_tuple = (5, 2, 1, 4, 3)\n",
    "\n",
    "# Display the results\n",
    "print(\"Is the sorted tuple sorted?\", is_sorted(sorted_tuple))\n",
    "print(\"Is the unsorted tuple sorted?\", is_sorted(unsorted_tuple))"
   ]
  },
  {
   "cell_type": "code",
   "execution_count": 119,
   "id": "35dd24c3-9717-4b22-be93-329c387737c6",
   "metadata": {},
   "outputs": [
    {
     "name": "stdout",
     "output_type": "stream",
     "text": [
      "The original tuple  (1, 2, 3, 4, 5, 6, 7, 8, 9, 10)\n",
      "The tuple after K_th times rotation  (4, 5, 6, 7, 8, 9, 10, 1, 2, 3)\n"
     ]
    }
   ],
   "source": [
    "##  39. Rotate a tuple to the left by `n` positions.\n",
    "def rotate_left(tuple_1,k):\n",
    "    n = len(tuple_1)\n",
    "    if k < 0 :\n",
    "        return \"Invalid please input positive value for rotation\"\n",
    "    elif k <= 0:\n",
    "        return tuple_1\n",
    "    else:\n",
    "        return tuple_1[k : n] + tuple_1[ : k]\n",
    "    \n",
    "tuple_1 = (1,2,3,4,5,6,7,8,9,10)\n",
    "times_of_rotate = 3\n",
    "print(\"The original tuple \",tuple_1)\n",
    "print(\"The tuple after K_th times rotation \",rotate_left(tuple_1,times_of_rotate))"
   ]
  },
  {
   "cell_type": "code",
   "execution_count": 120,
   "id": "0890d0e5-ff91-4ab2-9d59-974d08884e49",
   "metadata": {},
   "outputs": [
    {
     "name": "stdout",
     "output_type": "stream",
     "text": [
      "The tuple after 6-th times of rotation: (5, 6, 7, 8, 9, 10, 1, 2, 3, 4)\n"
     ]
    }
   ],
   "source": [
    "##  40. Rotate a tuple to the right by `n` positions.\n",
    "def rotate_right(tuple_1, k):\n",
    "    if k < 0:\n",
    "        return \"Invalid input value, please give a positive number\"\n",
    "    elif k <= 0:\n",
    "        return tuple_1\n",
    "    else:\n",
    "        return tuple_1[-k: ] + tuple_1[ :-k]\n",
    "\n",
    "tuple_1 = (1, 2, 3, 4, 5, 6, 7, 8, 9, 10)\n",
    "times_of_rotate = 6\n",
    "print(\"The tuple after {}-th times of rotation:\".format(times_of_rotate), rotate_right(tuple_1, times_of_rotate))"
   ]
  },
  {
   "cell_type": "code",
   "execution_count": 121,
   "id": "0f556795-accd-4b1b-8642-d75215daa703",
   "metadata": {},
   "outputs": [
    {
     "name": "stdout",
     "output_type": "stream",
     "text": [
      "Tuple of the first 5 Fibonacci numbers: (0, 1, 1, 2, 3)\n"
     ]
    }
   ],
   "source": [
    "##   41. Create a tuple of the first 5 Fibonacci numbers.\n",
    "# Using memoization to optimize Fibonacci calculation\n",
    "memo = {}\n",
    "\n",
    "def fib_num(n):\n",
    "    if n < 0:\n",
    "        return \"Invalid, n is negative\"\n",
    "    elif n == 0 or n == 1:\n",
    "        return n\n",
    "    elif n in memo:\n",
    "        return memo[n]\n",
    "    else:\n",
    "        result = fib_num(n-1) + fib_num(n-2)\n",
    "        memo[n] = result\n",
    "        return result\n",
    "\n",
    "# Create a tuple of the first 5 Fibonacci numbers\n",
    "fibonacci_tuple = tuple(fib_num(i) for i in range(5))\n",
    "\n",
    "# Display the tuple\n",
    "print(\"Tuple of the first 5 Fibonacci numbers:\", fibonacci_tuple)"
   ]
  },
  {
   "cell_type": "code",
   "execution_count": 124,
   "id": "e1668b0f-136d-4938-a7c7-2799b799d180",
   "metadata": {},
   "outputs": [
    {
     "name": "stdin",
     "output_type": "stream",
     "text": [
      "Enter a value (press Enter to finish):  1\n",
      "Enter a value (press Enter to finish):  2\n",
      "Enter a value (press Enter to finish):  3\n",
      "Enter a value (press Enter to finish):  4\n",
      "Enter a value (press Enter to finish):  5\n",
      "Enter a value (press Enter to finish):  6\n",
      "Enter a value (press Enter to finish):  \n"
     ]
    },
    {
     "name": "stdout",
     "output_type": "stream",
     "text": [
      "Tuple created from user input: ('1', '2', '3', '4', '5', '6')\n"
     ]
    }
   ],
   "source": [
    "##  42. Create a tuple from user input.\n",
    "# Initialize an empty list to store user inputs\n",
    "user_inputs = []\n",
    "\n",
    "# Get user input until they enter an empty string\n",
    "while True:\n",
    "    user_input = input(\"Enter a value (press Enter to finish): \")\n",
    "    \n",
    "    # Check if the user wants to finish\n",
    "    if user_input == '':\n",
    "        break\n",
    "    \n",
    "    # Append the user input to the list\n",
    "    user_inputs.append(user_input)\n",
    "\n",
    "# Create a tuple from the list of user inputs\n",
    "user_tuple = tuple(user_inputs)\n",
    "\n",
    "# Display the tuple\n",
    "print(\"Tuple created from user input:\", user_tuple)"
   ]
  },
  {
   "cell_type": "code",
   "execution_count": 125,
   "id": "0e55d973-4ffe-42a5-86df-02264201d978",
   "metadata": {},
   "outputs": [
    {
     "name": "stdout",
     "output_type": "stream",
     "text": [
      "Original tuple: (1, 2, 3, 4, 5, 6, 7, 8, 9, 10)\n",
      "Tuple after swapping elements at indices 6 and 8: (1, 2, 3, 4, 5, 6, 9, 8, 7, 10)\n"
     ]
    }
   ],
   "source": [
    "##  43. Swap two elements in a tuple.\n",
    "def swap_elements(tuple_1, index1, index2):\n",
    "    # Convert the tuple to a list to make modifications\n",
    "    list_1 = list(tuple_1)\n",
    "    \n",
    "    # Swap the elements at the specified indices\n",
    "    list_1[index1], list_1[index2] = list_1[index2], list_1[index1]\n",
    "    \n",
    "    # Convert the list back to a tuple\n",
    "    new_tuple = tuple(list_1)\n",
    "    \n",
    "    return new_tuple\n",
    "\n",
    "# Example tuple\n",
    "tuple_example = (1, 2, 3, 4, 5,6,7,8,9,10)\n",
    "# Indices to swap\n",
    "index_to_swap1 = 6\n",
    "index_to_swap2 = 8\n",
    "\n",
    "# Swap elements and display the result\n",
    "new_tuple = swap_elements(tuple_example, index_to_swap1, index_to_swap2)\n",
    "print(\"Original tuple:\", tuple_example)\n",
    "print(\"Tuple after swapping elements at indices {} and {}:\".format(index_to_swap1, index_to_swap2), new_tuple)\n"
   ]
  },
  {
   "cell_type": "code",
   "execution_count": 126,
   "id": "ad7b8baf-7d84-4ee7-9a60-8f5d1c9a8f12",
   "metadata": {},
   "outputs": [
    {
     "name": "stdout",
     "output_type": "stream",
     "text": [
      "The reversed tuple : (10, 9, 8, 7, 6, 5, 4, 3, 2, 1)\n"
     ]
    }
   ],
   "source": [
    "##  44. Reverse the elements of a tuple.\n",
    "tuple_example = (1, 2, 3, 4, 5,6,7,8,9,10)\n",
    "reversed_tuple = tuple_example[-1:  : -1]\n",
    "print(\"The reversed tuple :\",reversed_tuple)"
   ]
  },
  {
   "cell_type": "code",
   "execution_count": 127,
   "id": "59e46713-5963-48a7-82f8-71b639070101",
   "metadata": {},
   "outputs": [
    {
     "name": "stdout",
     "output_type": "stream",
     "text": [
      "Tuple of the first 5 powers of 2: (1, 2, 4, 8, 16)\n"
     ]
    }
   ],
   "source": [
    "##  45. Create a tuple of the first `n` powers of 2.\n",
    "# Function to create a tuple of the first n powers of 2\n",
    "def powers_of_2(n):\n",
    "    return tuple(2 ** i for i in range(n))\n",
    "\n",
    "# Example: Create a tuple of the first 5 powers of 2\n",
    "n = 5\n",
    "powers_tuple = powers_of_2(n)\n",
    "\n",
    "# Display the tuple\n",
    "print(\"Tuple of the first {} powers of 2:\".format(n), powers_tuple)"
   ]
  },
  {
   "cell_type": "code",
   "execution_count": 128,
   "id": "413767a6-72ce-4502-aa34-dbea3c95644c",
   "metadata": {},
   "outputs": [
    {
     "name": "stdout",
     "output_type": "stream",
     "text": [
      "Longest string in the tuple: strawberry\n"
     ]
    }
   ],
   "source": [
    "##  46. Find the longest string in a tuple of strings.\n",
    "# Function to find the longest string in a tuple\n",
    "def longest_string(tup):\n",
    "    if not tup:\n",
    "        return \"Tuple is empty\"\n",
    "    \n",
    "    max_length = 0\n",
    "    longest_str = \"\"\n",
    "\n",
    "    for string in tup:\n",
    "        if isinstance(string, str):  # Check if the element is a string\n",
    "            if len(string) > max_length:\n",
    "                max_length = len(string)\n",
    "                longest_str = string\n",
    "\n",
    "    if not longest_str:\n",
    "        return \"No valid string found in the tuple\"\n",
    "\n",
    "    return longest_str\n",
    "\n",
    "# Example: Tuple of strings\n",
    "string_tuple = (\"apple\", \"banana\", \"kiwi\", \"orange\", \"strawberry\", \"blueberry\")\n",
    "\n",
    "# Find and display the longest string\n",
    "result = longest_string(string_tuple)\n",
    "print(\"Longest string in the tuple:\", result)"
   ]
  },
  {
   "cell_type": "code",
   "execution_count": 129,
   "id": "b5d7fbac-f6dd-416a-9496-27f27f19651a",
   "metadata": {},
   "outputs": [
    {
     "name": "stdout",
     "output_type": "stream",
     "text": [
      "Shortest string in the tuple : 1234\n"
     ]
    }
   ],
   "source": [
    "##  47. Find the shortest string in a tuple of strings.\n",
    "def shortest_str(str_tuple):\n",
    "    if not str_tuple:\n",
    "        return \"Tuple is empty\"\n",
    "    \n",
    "    min_len = float('inf')\n",
    "    short_str = \"\"\n",
    "    for string in str_tuple:\n",
    "        if isinstance(string,str):  # Check if the element is a string\n",
    "            if len(string) < min_len:\n",
    "                min_len = len(string)\n",
    "                short_str = string\n",
    "    if not short_str:\n",
    "        return \"No Valid string found in the tuple\"\n",
    "    \n",
    "    return short_str\n",
    "\n",
    "string_tuple = (\"Apple\",\"Banana\",\"1234\",\"Kiwi\",\"Grapes\")\n",
    "\n",
    "result = shortest_str(string_tuple)\n",
    "print(\"Shortest string in the tuple :\",result)"
   ]
  },
  {
   "cell_type": "code",
   "execution_count": 130,
   "id": "305de8e8-60a9-4282-b5b8-0d871c9a6cce",
   "metadata": {},
   "outputs": [
    {
     "name": "stdout",
     "output_type": "stream",
     "text": [
      "Tuple of the first 5 triangular numbers: (1, 3, 6, 10, 15)\n"
     ]
    }
   ],
   "source": [
    "##  48. Create a tuple of the first `n` triangular numbers.\n",
    "# Function to create a tuple of the first n triangular numbers\n",
    "def triangular_numbers(n):\n",
    "    return tuple((i * (i + 1) // 2) for i in range(1, n + 1))\n",
    "\n",
    "# Example: Create a tuple of the first 5 triangular numbers\n",
    "n = 5\n",
    "triangular_tuple = triangular_numbers(n)\n",
    "\n",
    "# Display the tuple\n",
    "print(\"Tuple of the first {} triangular numbers:\".format(n), triangular_tuple)"
   ]
  },
  {
   "cell_type": "code",
   "execution_count": 132,
   "id": "55948418-4e8f-4dbe-a6b8-e24853bf433a",
   "metadata": {},
   "outputs": [
    {
     "name": "stdout",
     "output_type": "stream",
     "text": [
      "Does the tuple contain another tuple as a subsequence? True\n"
     ]
    }
   ],
   "source": [
    "##  49. Check if a tuple contains another tuple as a subsequence.\n",
    "# Function to check if a tuple contains another tuple as a subsequence\n",
    "def contains_subsequence(main_tuple, sub_tuple):\n",
    "    main_len = len(main_tuple)\n",
    "    sub_len = len(sub_tuple)\n",
    "\n",
    "    for i in range(main_len - sub_len + 1):\n",
    "        if main_tuple[i:i + sub_len] == sub_tuple:\n",
    "            return True\n",
    "\n",
    "    return False\n",
    "\n",
    "# Example: Check if a tuple contains another tuple as a subsequence\n",
    "main_tuple = (1, 2, 3, 4, 5, 6, 7, 8, 9)\n",
    "sub_tuple = (4, 5, 6)\n",
    "\n",
    "# Check and display the result\n",
    "result = contains_subsequence(main_tuple, sub_tuple)\n",
    "print(\"Does the tuple contain another tuple as a subsequence?\", result)"
   ]
  },
  {
   "cell_type": "code",
   "execution_count": 133,
   "id": "e568017e-cd0b-4ffc-9ebd-031a04b638b9",
   "metadata": {},
   "outputs": [
    {
     "name": "stdout",
     "output_type": "stream",
     "text": [
      "Tuple of alternating 1s and 0s of length 10: (0, 1, 0, 1, 0, 1, 0, 1, 0, 1)\n"
     ]
    }
   ],
   "source": [
    "##  50. Create a tuple of alternating 1s and 0s of length `n`.\n",
    "# Function to create a tuple of alternating 1s and 0s of length n\n",
    "def alternating_tuple(n):\n",
    "    return tuple(i % 2 for i in range(n))\n",
    "\n",
    "# Example: Create a tuple of alternating 1s and 0s of length 10\n",
    "n = 10\n",
    "alternating_tuple_result = alternating_tuple(n)\n",
    "\n",
    "# Display the tuple\n",
    "print(\"Tuple of alternating 1s and 0s of length {}:\".format(n), alternating_tuple_result)"
   ]
  },
  {
   "cell_type": "markdown",
   "id": "5050d8b3-4577-4312-9a1c-a53de2f88661",
   "metadata": {},
   "source": [
    "############      SET BASED PRACTICE PROBLEM        ##############"
   ]
  },
  {
   "cell_type": "code",
   "execution_count": 134,
   "id": "1a488eb3-f882-47a4-9ff7-edfd2623871c",
   "metadata": {},
   "outputs": [
    {
     "name": "stdout",
     "output_type": "stream",
     "text": [
      "A set of integer from 1 to 5  {1, 2, 3, 4, 5}\n"
     ]
    }
   ],
   "source": [
    "##  1. Create a set with integers from 1 to 5.\n",
    "a_set = {1,2,3,4,5}\n",
    "print(\"A set of integer from 1 to 5 \",a_set)"
   ]
  },
  {
   "cell_type": "code",
   "execution_count": 135,
   "id": "f3c6c07f-63ef-404f-9369-f8670d30dae8",
   "metadata": {},
   "outputs": [
    {
     "name": "stdout",
     "output_type": "stream",
     "text": [
      "The set after adding an element  {1, 2, 3, 4, 5, 6}\n"
     ]
    }
   ],
   "source": [
    "##  2. Add an element to a set.\n",
    "a_set = {1,2,3,4,5}\n",
    "a_set.add(6)\n",
    "print(\"The set after adding an element \",a_set)"
   ]
  },
  {
   "cell_type": "code",
   "execution_count": 136,
   "id": "eb3b4730-3451-4f5b-8524-eff180ec5589",
   "metadata": {},
   "outputs": [
    {
     "name": "stdout",
     "output_type": "stream",
     "text": [
      "{1, 2, 3, 4, 5}\n",
      "Removing an element from a set  1\n",
      "Set after removing an element {2, 3, 4, 5}\n"
     ]
    }
   ],
   "source": [
    "##  3. Remove an element from a set.\n",
    "a_set = {1,2,3,4,5}\n",
    "print(a_set)\n",
    "remove_element = a_set.pop()\n",
    "\n",
    "print(\"Removing an element from a set \",remove_element)\n",
    "print(\"Set after removing an element\",a_set)"
   ]
  },
  {
   "cell_type": "code",
   "execution_count": 137,
   "id": "360fa3b6-2845-41d5-9d69-98568876c018",
   "metadata": {},
   "outputs": [
    {
     "name": "stdout",
     "output_type": "stream",
     "text": [
      "Does checking element exists in a set  True\n"
     ]
    }
   ],
   "source": [
    "##  4. Check if an element exists in a set.\n",
    "a_set = {1,2,3,4,5}\n",
    "checking_element = 3\n",
    "def element_exists(a_set):\n",
    "    if checking_element in a_set:\n",
    "        return True \n",
    "    else:\n",
    "        return False\n",
    "    \n",
    "result = element_exists(a_set)\n",
    "print(\"Does checking element exists in a set \",result)"
   ]
  },
  {
   "cell_type": "code",
   "execution_count": 138,
   "id": "99999702-55ab-4792-a0fe-955252772214",
   "metadata": {},
   "outputs": [
    {
     "name": "stdout",
     "output_type": "stream",
     "text": [
      "The length of the set is : 10\n"
     ]
    }
   ],
   "source": [
    "##  5. Find the length of a set without using the `len()` function.\n",
    "def set_len(a_set):\n",
    "    length = 0\n",
    "    for i in a_set:\n",
    "        length += 1\n",
    "\n",
    "    return length\n",
    "\n",
    "a_set = {1,2,3,4,5,6,7,8,9,10}\n",
    "result = set_len(a_set)\n",
    "print(\"The length of the set is :\",result)"
   ]
  },
  {
   "cell_type": "code",
   "execution_count": 139,
   "id": "39b2aab5-a299-475b-bc42-17ef5670aa5e",
   "metadata": {},
   "outputs": [
    {
     "name": "stdout",
     "output_type": "stream",
     "text": [
      "set()\n"
     ]
    }
   ],
   "source": [
    "##  6. Clear all elements from a set.\n",
    "a_set = {1,2,3,4,5,6,7,8,9,10}\n",
    "a_set.clear()\n",
    "print(a_set)    ##  After clearing a set."
   ]
  },
  {
   "cell_type": "code",
   "execution_count": 140,
   "id": "3a9b670c-125a-42bb-89a1-8b0e22f2bbbb",
   "metadata": {},
   "outputs": [
    {
     "name": "stdout",
     "output_type": "stream",
     "text": [
      "A set of even numbers is : {2, 4, 6, 8, 10}\n"
     ]
    }
   ],
   "source": [
    "##  7. Create a set of even numbers from 1 to 10.\n",
    "even_set = {num for num in range(1,11) if num%2 == 0}\n",
    "print(\"A set of even numbers is :\",even_set)"
   ]
  },
  {
   "cell_type": "code",
   "execution_count": 141,
   "id": "a654045c-f0af-4389-a001-eb258c36da71",
   "metadata": {},
   "outputs": [
    {
     "name": "stdout",
     "output_type": "stream",
     "text": [
      "A set of odd number is : {1, 3, 5, 7, 9}\n"
     ]
    }
   ],
   "source": [
    "##  8. Create a set of odd numbers from 1 to 10.\n",
    "odd_set = {num for num in range(1,11) if num%2 != 0}\n",
    "print(\"A set of odd number is :\",odd_set)"
   ]
  },
  {
   "cell_type": "code",
   "execution_count": 142,
   "id": "97dbe562-f08b-45a9-bad8-3b508287e1c2",
   "metadata": {},
   "outputs": [
    {
     "name": "stdout",
     "output_type": "stream",
     "text": [
      "The union of two sets is : {'kiwi', 'grapes', 'apple', 'cucumber', 'carrot', 'radish', 'banana', 'cherry'}\n"
     ]
    }
   ],
   "source": [
    "##  9. Find the union of two sets.\n",
    "set_1 = {\"apple\",\"banana\",\"cherry\",\"kiwi\",\"grapes\"}\n",
    "set_2 = {\"cherry\",\"cucumber\",\"radish\",\"carrot\"}\n",
    "union_set = set_1.union(set_2)\n",
    "print(\"The union of two sets is :\",union_set)"
   ]
  },
  {
   "cell_type": "code",
   "execution_count": 143,
   "id": "e2acf36d-ed1f-4370-a588-b425b2d879b5",
   "metadata": {},
   "outputs": [
    {
     "name": "stdout",
     "output_type": "stream",
     "text": [
      "The intersection of two sets is : {'cherry'}\n"
     ]
    }
   ],
   "source": [
    "##  10. Find the intersection of two sets.\n",
    "set_1 = {\"apple\",\"banana\",\"cherry\",\"kiwi\",\"grapes\"}\n",
    "set_2 = {\"cherry\",\"cucumber\",\"radish\",\"carrot\"}\n",
    "intersection_set = set_1.intersection(set_2)\n",
    "print(\"The intersection of two sets is :\",intersection_set)"
   ]
  },
  {
   "cell_type": "code",
   "execution_count": 144,
   "id": "bd57bb2c-cf85-4252-be23-09e2eced68ce",
   "metadata": {},
   "outputs": [
    {
     "name": "stdout",
     "output_type": "stream",
     "text": [
      "The difference of set_1 with set_2 is : {'kiwi', 'apple', 'banana', 'grapes'}\n",
      "The difference of set_2 with set_1 is : {'carrot', 'cucumber', 'radish'}\n"
     ]
    }
   ],
   "source": [
    "##  11. Find the difference between two sets.\n",
    "set_1 = {\"apple\",\"banana\",\"cherry\",\"kiwi\",\"grapes\"}\n",
    "set_2 = {\"cherry\",\"cucumber\",\"radish\",\"carrot\"}\n",
    "\n",
    "difference_set1 = set_1.difference(set_2)  # Difference of set 1 - 2 \n",
    "difference_set2 = set_2.difference(set_1)  # Difference of set 2 - 1\n",
    "\n",
    "print(\"The difference of set_1 with set_2 is :\",difference_set1)\n",
    "print(\"The difference of set_2 with set_1 is :\",difference_set2)"
   ]
  },
  {
   "cell_type": "code",
   "execution_count": 145,
   "id": "33a85dcd-c430-46e0-9fad-01418f5e5a1e",
   "metadata": {},
   "outputs": [
    {
     "name": "stdout",
     "output_type": "stream",
     "text": [
      "Does set_2 is subset of set_1  True\n"
     ]
    }
   ],
   "source": [
    "##  12. Check if a set is a subset of another set.\n",
    "set_1 = {1,2,3,4,5,6,7,8,9,10}\n",
    "set_2 = {5,6,7,8,9}\n",
    "result = set_2.issubset(set_1)\n",
    "print(\"Does set_2 is subset of set_1 \",result)"
   ]
  },
  {
   "cell_type": "code",
   "execution_count": 147,
   "id": "017e4d92-e179-44d0-96c6-80efd8f8e9b4",
   "metadata": {},
   "outputs": [
    {
     "name": "stdout",
     "output_type": "stream",
     "text": [
      "Using issuperset method: True\n",
      "Using >= operator: True\n"
     ]
    }
   ],
   "source": [
    "##  13. Check if a set is a superset of another set.\n",
    "set1 = {1, 2, 3, 4, 5}\n",
    "set2 = {2, 4}\n",
    "\n",
    "# Check if set1 is a superset of set2 using the issuperset method\n",
    "result_method = set1.issuperset(set2)\n",
    "\n",
    "# Check if set1 is a superset of set2 using the >= operator\n",
    "result_operator = set1 >= set2\n",
    "\n",
    "# Display the results\n",
    "print(\"Using issuperset method:\", result_method)\n",
    "print(\"Using >= operator:\", result_operator)"
   ]
  },
  {
   "cell_type": "code",
   "execution_count": 148,
   "id": "d697184f-b154-4698-9974-8b34e5284849",
   "metadata": {},
   "outputs": [
    {
     "name": "stdout",
     "output_type": "stream",
     "text": [
      "A set from a list  {1, 2, 3, 4, 5, 6, 7, 8}\n"
     ]
    }
   ],
   "source": [
    "##  14. Create a set from a list.\n",
    "list_1 = [1,2,3,4,5,6,7,8]\n",
    "list_to_set = set(list_1)\n",
    "print(\"A set from a list \",list_to_set)"
   ]
  },
  {
   "cell_type": "code",
   "execution_count": 149,
   "id": "89b988de-a1a2-49b2-a26a-265eb764b668",
   "metadata": {},
   "outputs": [
    {
     "name": "stdout",
     "output_type": "stream",
     "text": [
      "A set to a list  [1, 2, 3, 4, 5, 6, 7, 8]\n"
     ]
    }
   ],
   "source": [
    "##  15. Convert a set to a list.\n",
    "set_1 = {1,2,3,4,5,6,7,8}\n",
    "set_to_list = list(set_1)\n",
    "print(\"A set to a list \",set_to_list)"
   ]
  },
  {
   "cell_type": "code",
   "execution_count": 150,
   "id": "6e857ede-b842-42a6-9a7d-48fc46bfb708",
   "metadata": {},
   "outputs": [
    {
     "name": "stdout",
     "output_type": "stream",
     "text": [
      "Set after removal: {2, 3, 4, 5}\n",
      "Removed element: 1\n"
     ]
    }
   ],
   "source": [
    "##  16. Remove a random element from a set.\n",
    "# Define a set\n",
    "my_set = {1, 2, 3, 4, 5}\n",
    "\n",
    "# Remove a random element from the set using the pop method\n",
    "removed_element = my_set.pop()\n",
    "\n",
    "# Display the set after removal and the removed element\n",
    "print(\"Set after removal:\", my_set)\n",
    "print(\"Removed element:\", removed_element)"
   ]
  },
  {
   "cell_type": "code",
   "execution_count": 151,
   "id": "9c64b24e-db55-40ba-a81c-2b124b97348b",
   "metadata": {},
   "outputs": [
    {
     "name": "stdout",
     "output_type": "stream",
     "text": [
      "Set after pop operation: {2, 3, 4, 5}\n",
      "Popped element: 1\n"
     ]
    }
   ],
   "source": [
    "##  17. Pop an element from a set.\n",
    "# Define a set\n",
    "my_set = {1, 2, 3, 4, 5}\n",
    "\n",
    "# Pop an element from the set\n",
    "popped_element = my_set.pop()\n",
    "\n",
    "# Display the set after the pop operation and the popped element\n",
    "print(\"Set after pop operation:\", my_set)\n",
    "print(\"Popped element:\", popped_element)"
   ]
  },
  {
   "cell_type": "code",
   "execution_count": 152,
   "id": "2e8ebece-1131-4bc4-9b95-79ac94306c5e",
   "metadata": {},
   "outputs": [
    {
     "name": "stdout",
     "output_type": "stream",
     "text": [
      "Do the sets have no elements in common? True\n"
     ]
    }
   ],
   "source": [
    "##  18. Check if two sets have no elements in common.\n",
    "# Define two sets\n",
    "set1 = {1, 2, 3}\n",
    "set2 = {4, 5, 6}\n",
    "\n",
    "# Check if the sets have no elements in common using the isdisjoint method\n",
    "no_common_elements = set1.isdisjoint(set2)\n",
    "\n",
    "# Display the result\n",
    "print(\"Do the sets have no elements in common?\", no_common_elements)"
   ]
  },
  {
   "cell_type": "code",
   "execution_count": 153,
   "id": "ae58cc20-1d4f-4f5e-b7df-ede8358a11e7",
   "metadata": {},
   "outputs": [
    {
     "name": "stdout",
     "output_type": "stream",
     "text": [
      "Symmetric difference using symmetric_difference method: {1, 2, 5, 6}\n",
      "Symmetric difference using ^ operator: {1, 2, 5, 6}\n"
     ]
    }
   ],
   "source": [
    "##  19. Find the symmetric difference between two sets.\n",
    "# Define two sets\n",
    "set1 = {1, 2, 3, 4}\n",
    "set2 = {3, 4, 5, 6}\n",
    "\n",
    "# Find the symmetric difference using the symmetric_difference method\n",
    "symmetric_difference_method = set1.symmetric_difference(set2)\n",
    "\n",
    "# Find the symmetric difference using the ^ operator\n",
    "symmetric_difference_operator = set1 ^ set2\n",
    "\n",
    "# Display the results\n",
    "print(\"Symmetric difference using symmetric_difference method:\", symmetric_difference_method)\n",
    "print(\"Symmetric difference using ^ operator:\", symmetric_difference_operator)"
   ]
  },
  {
   "cell_type": "code",
   "execution_count": 154,
   "id": "c36d7e61-7c11-4653-9217-926a8b78b2ac",
   "metadata": {},
   "outputs": [
    {
     "name": "stdout",
     "output_type": "stream",
     "text": [
      "Updated set1: {1, 2, 3, 4, 5}\n"
     ]
    }
   ],
   "source": [
    "##  20. Update a set with elements from another set.\n",
    "set1 = {1, 2, 3}\n",
    "set2 = {3, 4, 5}\n",
    "\n",
    "# Update set1 with elements from set2 using the update method\n",
    "set1.update(set2)\n",
    "\n",
    "# Display the updated set1\n",
    "print(\"Updated set1:\", set1)"
   ]
  },
  {
   "cell_type": "code",
   "execution_count": 155,
   "id": "acab06ee-b4d2-47bc-98bf-a60eeed935e1",
   "metadata": {},
   "outputs": [
    {
     "name": "stdout",
     "output_type": "stream",
     "text": [
      "Set of the first 5 prime numbers: {2, 3, 5, 7, 11}\n"
     ]
    }
   ],
   "source": [
    "##  21. Create a set of the first 5 prime numbers.\n",
    "# Function to check if a number is prime\n",
    "def is_prime(num):\n",
    "    if num < 2:\n",
    "        return False\n",
    "    for i in range(2, int(num**0.5) + 1):\n",
    "        if num % i == 0:\n",
    "            return False\n",
    "    return True\n",
    "\n",
    "# Create a set of the first 5 prime numbers\n",
    "first_5_primes = {2, 3, 5, 7, 11}\n",
    "\n",
    "# Display the set of the first 5 prime numbers\n",
    "print(\"Set of the first 5 prime numbers:\", first_5_primes)"
   ]
  },
  {
   "cell_type": "code",
   "execution_count": 156,
   "id": "bc58a377-c3b0-453c-84ec-8ff6bdca8c48",
   "metadata": {},
   "outputs": [
    {
     "name": "stdout",
     "output_type": "stream",
     "text": [
      "Are the sets identical? True\n"
     ]
    }
   ],
   "source": [
    "##  22. Check if two sets are identical.\n",
    "set1 = {1, 2, 3}\n",
    "set2 = {3, 2, 1}\n",
    "\n",
    "# Check if the sets are identical using the == operator\n",
    "are_identical = set1 == set2\n",
    "\n",
    "# Display the result\n",
    "print(\"Are the sets identical?\", are_identical)"
   ]
  },
  {
   "cell_type": "code",
   "execution_count": 157,
   "id": "8f7231ec-8691-4dfa-885f-0d391fa564d0",
   "metadata": {},
   "outputs": [
    {
     "name": "stdout",
     "output_type": "stream",
     "text": [
      "Frozen set: frozenset({1, 2, 3, 4, 5})\n"
     ]
    }
   ],
   "source": [
    "##  23. Create a frozen set.\n",
    "my_set = {1, 2, 3, 4, 5}\n",
    "\n",
    "# Convert the set to a frozen set\n",
    "frozen_set = frozenset(my_set)\n",
    "\n",
    "# Display the frozen set\n",
    "print(\"Frozen set:\", frozen_set)"
   ]
  },
  {
   "cell_type": "code",
   "execution_count": 158,
   "id": "e45655a9-88aa-441a-b4d2-a2d7a677f474",
   "metadata": {},
   "outputs": [
    {
     "name": "stdout",
     "output_type": "stream",
     "text": [
      "Are the sets disjoint? True\n"
     ]
    }
   ],
   "source": [
    "##  24. Check if a set is disjoint with another set.\n",
    "set1 = {1, 2, 3}\n",
    "set2 = {4, 5, 6}\n",
    "\n",
    "# Check if the sets are disjoint using the isdisjoint() method\n",
    "are_disjoint = set1.isdisjoint(set2)\n",
    "\n",
    "# Display the result\n",
    "print(\"Are the sets disjoint?\", are_disjoint)"
   ]
  },
  {
   "cell_type": "code",
   "execution_count": 160,
   "id": "7d734a03-e422-416c-a5b0-72de878ef347",
   "metadata": {},
   "outputs": [
    {
     "name": "stdout",
     "output_type": "stream",
     "text": [
      "Set of squares: {1, 4, 9, 16, 25}\n"
     ]
    }
   ],
   "source": [
    "##  25. Create a set of squares of numbers from 1 to 5.\n",
    "squares_set = {x**2 for x in range(1, 6)}\n",
    "\n",
    "# Display the set of squares\n",
    "print(\"Set of squares:\", squares_set)"
   ]
  },
  {
   "cell_type": "code",
   "execution_count": 161,
   "id": "1d4a9a45-251d-4172-833d-2969f9bf3692",
   "metadata": {},
   "outputs": [
    {
     "name": "stdout",
     "output_type": "stream",
     "text": [
      "Filtered set (without even numbers): {1, 3, 5, 7, 9}\n"
     ]
    }
   ],
   "source": [
    "##  26. Filter out all even numbers from a set.\n",
    "# Original set\n",
    "original_set = {1, 2, 3, 4, 5, 6, 7, 8, 9, 10}\n",
    "\n",
    "# Filter out even numbers using set comprehension\n",
    "filtered_set = {x for x in original_set if x % 2 != 0}\n",
    "\n",
    "# Display the filtered set\n",
    "print(\"Filtered set (without even numbers):\", filtered_set)"
   ]
  },
  {
   "cell_type": "code",
   "execution_count": 162,
   "id": "5a24f7ee-b21f-4a20-9078-76e8d243d6f4",
   "metadata": {},
   "outputs": [
    {
     "name": "stdout",
     "output_type": "stream",
     "text": [
      "Result set (each element multiplied by 2): {2, 4, 6, 8, 10}\n"
     ]
    }
   ],
   "source": [
    "##  27. Multiply all elements in a set by 2.\n",
    "# Original set\n",
    "original_set = {1, 2, 3, 4, 5}\n",
    "\n",
    "# Convert set to list, multiply each element by 2, and create a new set\n",
    "result_set = {x * 2 for x in original_set}\n",
    "\n",
    "# Display the result set\n",
    "print(\"Result set (each element multiplied by 2):\", result_set)"
   ]
  },
  {
   "cell_type": "code",
   "execution_count": 163,
   "id": "2da3d0bc-4fa2-4a43-b69b-24c10ba9e1d5",
   "metadata": {},
   "outputs": [
    {
     "name": "stdout",
     "output_type": "stream",
     "text": [
      "Set of random numbers: {2, 99, 38, 72, 74, 10, 42, 77, 83, 57}\n"
     ]
    }
   ],
   "source": [
    "##  28. Create a set of random numbers.\n",
    "import random\n",
    "\n",
    "# Generate a set of random numbers\n",
    "random_set = {random.randint(1, 100) for _ in range(10)}\n",
    "\n",
    "# Display the set of random numbers\n",
    "print(\"Set of random numbers:\", random_set)"
   ]
  },
  {
   "cell_type": "code",
   "execution_count": 164,
   "id": "2897626d-31a4-493e-b1d4-9442c09c0931",
   "metadata": {},
   "outputs": [
    {
     "name": "stdout",
     "output_type": "stream",
     "text": [
      "Is the set empty? True\n"
     ]
    }
   ],
   "source": [
    "##  29. Check if a set is empty.\n",
    "# Create an empty set\n",
    "empty_set = set()\n",
    "\n",
    "# Check if the set is empty\n",
    "is_empty = not bool(empty_set)\n",
    "\n",
    "# Display the result\n",
    "print(\"Is the set empty?\", is_empty)"
   ]
  },
  {
   "cell_type": "code",
   "execution_count": 165,
   "id": "c976f1ab-d2ec-42e8-aea6-ef2b05141c1f",
   "metadata": {},
   "outputs": [
    {
     "name": "stdout",
     "output_type": "stream",
     "text": [
      "Nested set: {frozenset({1, 2, 3}), frozenset({'a', 'b', 'c'})}\n"
     ]
    }
   ],
   "source": [
    "##  30. Create a nested set (hint: use frozenset).\n",
    "# Create a nested set using frozenset\n",
    "nested_set = {frozenset({1, 2, 3}), frozenset({'a', 'b', 'c'})}\n",
    "\n",
    "# Display the nested set\n",
    "print(\"Nested set:\", nested_set)"
   ]
  },
  {
   "cell_type": "code",
   "execution_count": 166,
   "id": "10828a1c-cd44-4337-a361-ad8bb0ed52d5",
   "metadata": {},
   "outputs": [
    {
     "name": "stdout",
     "output_type": "stream",
     "text": [
      "Set after removing 3 : {1, 2, 4, 5}\n"
     ]
    }
   ],
   "source": [
    "##  31. Remove an element from a set using the discard method.\n",
    "# Create a set\n",
    "my_set = {1, 2, 3, 4, 5}\n",
    "\n",
    "# Remove an element using discard\n",
    "element_to_remove = 3\n",
    "my_set.discard(element_to_remove)\n",
    "\n",
    "# Display the updated set\n",
    "print(\"Set after removing\", element_to_remove, \":\", my_set)"
   ]
  },
  {
   "cell_type": "code",
   "execution_count": 167,
   "id": "6cfd9f10-e2dd-4c7e-bb31-953372e94c69",
   "metadata": {},
   "outputs": [
    {
     "name": "stdout",
     "output_type": "stream",
     "text": [
      "Are the sets equal? False\n",
      "Is set1 a subset of set2? False\n",
      "Is set2 a superset of set1? False\n"
     ]
    }
   ],
   "source": [
    "##  32. Compare two sets.\n",
    "# Define two sets\n",
    "set1 = {1, 2, 3, 4, 5}\n",
    "set2 = {3, 4, 5, 6, 7}\n",
    "\n",
    "# Check if sets are equal\n",
    "are_equal = set1 == set2\n",
    "print(\"Are the sets equal?\", are_equal)\n",
    "\n",
    "# Check if set1 is a subset of set2\n",
    "is_subset = set1.issubset(set2)\n",
    "print(\"Is set1 a subset of set2?\", is_subset)\n",
    "\n",
    "# Check if set2 is a superset of set1\n",
    "is_superset = set2.issuperset(set1)\n",
    "print(\"Is set2 a superset of set1?\", is_superset)"
   ]
  },
  {
   "cell_type": "code",
   "execution_count": 168,
   "id": "e5fc725e-78ca-41de-a80e-f52dfac670c6",
   "metadata": {},
   "outputs": [
    {
     "name": "stdout",
     "output_type": "stream",
     "text": [
      "Set created from string: {'H', 's', 'w', 'E', 'k', 'o', ' ', 'i', 'P', 'l'}\n"
     ]
    }
   ],
   "source": [
    "##  33. Create a set from a string.\n",
    "my_string = \"HEllo Pwskils\"\n",
    "my_set = set(my_string)\n",
    "print(\"Set created from string:\",my_set)"
   ]
  },
  {
   "cell_type": "code",
   "execution_count": 169,
   "id": "65e632a8-aa1d-4bb6-8c89-19cc2f3aea45",
   "metadata": {},
   "outputs": [
    {
     "name": "stdout",
     "output_type": "stream",
     "text": [
      "Set of integers: {1, 2, 3, 4, 5}\n"
     ]
    }
   ],
   "source": [
    "##  34. Convert a set of strings to a set of integers.\n",
    "# Set of strings\n",
    "string_set = {\"1\", \"2\", \"3\", \"4\", \"5\"}\n",
    "\n",
    "# Convert to a set of integers\n",
    "int_set = {int(value) for value in string_set}\n",
    "\n",
    "# Display the set of integers\n",
    "print(\"Set of integers:\", int_set)"
   ]
  },
  {
   "cell_type": "code",
   "execution_count": 170,
   "id": "da2f0b78-9f19-4ee7-a1bc-262c9fff2d5a",
   "metadata": {},
   "outputs": [
    {
     "name": "stdout",
     "output_type": "stream",
     "text": [
      "Set of strings : {'1', '6', '2', '5', '4', '8', '3', '7'}\n"
     ]
    }
   ],
   "source": [
    "##  35. Convert a set of integers to a set of strings.\n",
    "int_set = {1,2,3,4,5,6,7,8}\n",
    "string_set = {str(value) for value in int_set}\n",
    "print(\"Set of strings :\",string_set)"
   ]
  },
  {
   "cell_type": "code",
   "execution_count": 171,
   "id": "cd1a5718-91f5-4342-b75a-a134d691b43a",
   "metadata": {},
   "outputs": [
    {
     "name": "stdout",
     "output_type": "stream",
     "text": [
      "A set from a tuple : {1, 2, 3, 4, 5, 6, 7, 8}\n"
     ]
    }
   ],
   "source": [
    "##  36. Create a set from a tuple.\n",
    "my_tuple = (1,2,3,4,5,6,7,8)\n",
    "my_set = set(my_tuple)\n",
    "print(\"A set from a tuple :\",my_set)"
   ]
  },
  {
   "cell_type": "code",
   "execution_count": 172,
   "id": "fb287265-9ca4-4745-a633-b35066efa206",
   "metadata": {},
   "outputs": [
    {
     "name": "stdout",
     "output_type": "stream",
     "text": [
      "A set to a tuple : (1, 2, 3, 4, 5, 6, 7, 8, 9, 10)\n"
     ]
    }
   ],
   "source": [
    "##  37. Convert a set to a tuple.\n",
    "my_set = {1,2,3,4,5,6,7,8,9,10}\n",
    "my_tuple = tuple(my_set)\n",
    "print(\"A set to a tuple :\",my_tuple)"
   ]
  },
  {
   "cell_type": "code",
   "execution_count": 173,
   "id": "4d74ecaf-2843-4a6c-80a1-537dd307f47d",
   "metadata": {},
   "outputs": [
    {
     "name": "stdout",
     "output_type": "stream",
     "text": [
      "The maximum value in the set is  10\n"
     ]
    }
   ],
   "source": [
    "##  38. Find the maximum value in a set.\n",
    "my_set = {1,2,3,4,5,6,7,8,9,10}\n",
    "print(\"The maximum value in the set is \",max(my_set))"
   ]
  },
  {
   "cell_type": "code",
   "execution_count": 174,
   "id": "cd21ca9f-6e28-464c-bceb-d97270e894b1",
   "metadata": {},
   "outputs": [
    {
     "name": "stdout",
     "output_type": "stream",
     "text": [
      "The minimum value in the set is  1\n"
     ]
    }
   ],
   "source": [
    "##  39. Find the minimum value in a set.\n",
    "my_set = {1,2,3,4,5,6,7,8,9,10}\n",
    "print(\"The minimum value in the set is \",min(my_set))"
   ]
  },
  {
   "cell_type": "code",
   "execution_count": 175,
   "id": "82545fe9-d0ff-495a-afc8-c59402b76a82",
   "metadata": {},
   "outputs": [
    {
     "name": "stdin",
     "output_type": "stream",
     "text": [
      "Enter elements for the set (comma-separated):  1,2,3,4,5,6,7,8,9,10\n"
     ]
    },
    {
     "name": "stdout",
     "output_type": "stream",
     "text": [
      "Set created from user input: {'1', '6', '2', '5', '4', '8', '9', '10', '3', '7'}\n"
     ]
    }
   ],
   "source": [
    "##  40. Create a set from user input.\n",
    "# Get user input as a comma-separated string\n",
    "user_input_str = input(\"Enter elements for the set (comma-separated): \")\n",
    "\n",
    "# Convert the input string to a set\n",
    "user_set = set(user_input_str.split(','))\n",
    "\n",
    "# Display the set\n",
    "print(\"Set created from user input:\", user_set)"
   ]
  },
  {
   "cell_type": "code",
   "execution_count": 176,
   "id": "3bb49900-073f-441b-83d3-bb7606c46bce",
   "metadata": {},
   "outputs": [
    {
     "name": "stdout",
     "output_type": "stream",
     "text": [
      "The sets have common elements.\n"
     ]
    }
   ],
   "source": [
    "##  41. Check if the intersection of two sets is empty.\n",
    "# Two sets\n",
    "set1 = {1, 2, 3, 4, 5}\n",
    "set2 = {4, 5, 6, 7, 8}\n",
    "\n",
    "# Check if the intersection is empty\n",
    "intersection_empty = set1.isdisjoint(set2)\n",
    "\n",
    "# Display the result\n",
    "if intersection_empty:\n",
    "    print(\"The intersection is empty.\")\n",
    "else:\n",
    "    print(\"The sets have common elements.\")"
   ]
  },
  {
   "cell_type": "code",
   "execution_count": 177,
   "id": "b792f7ca-6565-4597-8322-e4ffcc273e62",
   "metadata": {},
   "outputs": [
    {
     "name": "stdout",
     "output_type": "stream",
     "text": [
      "Set of the first 5 fibonacci numbers : {0, 1, 2, 3}\n"
     ]
    }
   ],
   "source": [
    "##  42. Create a set of the first 5 Fibonacci numbers.\n",
    "def generate_fibonacci(n):\n",
    "    fibonacci_set = set()\n",
    "    a, b = 0, 1\n",
    "    for i in range(n):\n",
    "        fibonacci_set.add(a)\n",
    "        a, b = b, a+b\n",
    "\n",
    "    return fibonacci_set\n",
    "# Create a set of the first 5 fibonacci numbers\n",
    "first_5_fibonacci_set = generate_fibonacci(5)\n",
    "\n",
    "print(\"Set of the first 5 fibonacci numbers :\",first_5_fibonacci_set)"
   ]
  },
  {
   "cell_type": "code",
   "execution_count": 178,
   "id": "892291de-4641-4fa8-ae4b-cbe2a7e9cca0",
   "metadata": {},
   "outputs": [
    {
     "name": "stdout",
     "output_type": "stream",
     "text": [
      "Original list with duplicates  [1, 2, 3, 4, 5, 6, 7, 8, 1, 2, 3, 2, 1, 3, 2, 4, 5, 6]\n",
      "List after removing duplicates  [1, 2, 3, 4, 5, 6, 7, 8]\n"
     ]
    }
   ],
   "source": [
    "##  43. Remove duplicates from a list using sets.\n",
    "original_list = [1,2,3,4,5,6,7,8,1,2,3,2,1,3,2,4,5,6]\n",
    "\n",
    "unique_list = list(set(original_list))\n",
    "\n",
    "print(\"Original list with duplicates \",original_list)\n",
    "print(\"List after removing duplicates \",unique_list)"
   ]
  },
  {
   "cell_type": "code",
   "execution_count": 179,
   "id": "85d0e97b-7fa2-4b07-bda7-460a66e285b3",
   "metadata": {},
   "outputs": [
    {
     "name": "stdout",
     "output_type": "stream",
     "text": [
      "The sets have the same elements regardless of count.\n"
     ]
    }
   ],
   "source": [
    "##  44. Check if two sets have the same elements, regardless of their count.\n",
    "from collections import Counter\n",
    "\n",
    "# Two sets\n",
    "set1 = {1, 2, 3, 4, 5}\n",
    "set2 = {5, 4, 3, 2, 1, 1}\n",
    "\n",
    "# Check if sets have the same elements regardless of count\n",
    "same_elements = Counter(set1) == Counter(set2)\n",
    "\n",
    "# Display the result\n",
    "if same_elements:\n",
    "    print(\"The sets have the same elements regardless of count.\")\n",
    "else:\n",
    "    print(\"The sets do not have the same elements regardless of count.\")"
   ]
  },
  {
   "cell_type": "code",
   "execution_count": 180,
   "id": "38705d25-87a7-46c8-8fcf-ec8442d1311c",
   "metadata": {},
   "outputs": [
    {
     "name": "stdout",
     "output_type": "stream",
     "text": [
      "Set of the first 5 powers of 2: {1, 2, 4, 8, 16}\n"
     ]
    }
   ],
   "source": [
    "##  45. Create a set of the first `n` powers of 2.\n",
    "# Set of the first 5 powers of 2\n",
    "n = 5\n",
    "powers_of_2_set = {2 ** i for i in range(n)}\n",
    "\n",
    "# Display the set\n",
    "print(\"Set of the first 5 powers of 2:\", powers_of_2_set)"
   ]
  },
  {
   "cell_type": "code",
   "execution_count": 181,
   "id": "031202ff-5604-4af5-8282-338ca10fb846",
   "metadata": {},
   "outputs": [
    {
     "name": "stdout",
     "output_type": "stream",
     "text": [
      "Common elements between the set and lists  {3, 4, 5}\n"
     ]
    }
   ],
   "source": [
    "##  46. Find the common elements between a set and a list.\n",
    "my_set = {1,2,3,4,5}\n",
    "my_list = [3,4,5,6,7,8]\n",
    "\n",
    "common_element = set(my_list).intersection(my_set)\n",
    "\n",
    "print(\"Common elements between the set and lists \",common_element)"
   ]
  },
  {
   "cell_type": "code",
   "execution_count": 182,
   "id": "3328f70a-0117-40c8-a214-efd52465bb3d",
   "metadata": {},
   "outputs": [
    {
     "name": "stdout",
     "output_type": "stream",
     "text": [
      "Set of the first 5 triangular numbers: {1, 3, 6, 10, 15}\n"
     ]
    }
   ],
   "source": [
    "##  47. Create a set of the first `n` triangular numbers.\n",
    "# Set of the first 5 triangular numbers\n",
    "n = 5\n",
    "triangular_numbers_set = {i * (i + 1) // 2 for i in range(1, n + 1)}\n",
    "\n",
    "# Display the set\n",
    "print(\"Set of the first 5 triangular numbers:\", triangular_numbers_set)"
   ]
  },
  {
   "cell_type": "code",
   "execution_count": 183,
   "id": "b493aee8-948c-46a6-84ec-9c2b7bb3f98f",
   "metadata": {},
   "outputs": [
    {
     "name": "stdout",
     "output_type": "stream",
     "text": [
      "set2 is a subset of set1\n"
     ]
    }
   ],
   "source": [
    "##  48. Check if a set contains another set as a subset.\n",
    "# Sets\n",
    "set1 = {1, 2, 3, 4, 5, 6}\n",
    "set2 = {2, 4}\n",
    "\n",
    "# Check if set2 is a subset of set1\n",
    "is_subset = set2.issubset(set1)\n",
    "\n",
    "# Display the result\n",
    "if is_subset:\n",
    "    print(\"set2 is a subset of set1\")\n",
    "else:\n",
    "    print(\"set2 is not a subset of set1\")"
   ]
  },
  {
   "cell_type": "code",
   "execution_count": 184,
   "id": "201bc1cb-98d6-4669-9b97-bcfb36da9552",
   "metadata": {},
   "outputs": [
    {
     "name": "stdout",
     "output_type": "stream",
     "text": [
      "Set of alternating 1s and 0s: {0, 1}\n"
     ]
    }
   ],
   "source": [
    "##  49. Create a set of alternating 1s and 0s of length `n`.\n",
    "# Set of alternating 1s and 0s of length n\n",
    "n = 5\n",
    "alternating_set = {i % 2 for i in range(n)}\n",
    "\n",
    "# Display the set\n",
    "print(\"Set of alternating 1s and 0s:\", alternating_set)"
   ]
  },
  {
   "cell_type": "code",
   "execution_count": 185,
   "id": "ee6099e7-061c-41bc-b4c6-a594c52e8d7a",
   "metadata": {},
   "outputs": [
    {
     "name": "stdout",
     "output_type": "stream",
     "text": [
      "Multiple merged sets are : {1, 2, 3, 4, 5, 6, 7, 8, 9, 10, 11, 12, 13, 14, 15, 16, 17, 18, 19, 20, 21, 22, 23, 24, 25, 26, 27, 28, 29, 30.31, 32}\n"
     ]
    }
   ],
   "source": [
    "##  50. Merge multiple sets into one.\n",
    "set_1 = {1,2,3,4,5}\n",
    "set_2 = {6,7,8,9,10}\n",
    "set_3 = {11,12,13,14,15}\n",
    "set_4 = {16,17,18,19,20}\n",
    "set_5 = {21,22,23,24,25}\n",
    "set_6 = {26,27,28,29,30.31,32}\n",
    "\n",
    "merged_set = set_1.union(set_2,set_3,set_4,set_5,set_6)\n",
    "\n",
    "print(\"Multiple merged sets are :\",merged_set)"
   ]
  }
 ],
 "metadata": {
  "kernelspec": {
   "display_name": "Python 3 (ipykernel)",
   "language": "python",
   "name": "python3"
  },
  "language_info": {
   "codemirror_mode": {
    "name": "ipython",
    "version": 3
   },
   "file_extension": ".py",
   "mimetype": "text/x-python",
   "name": "python",
   "nbconvert_exporter": "python",
   "pygments_lexer": "ipython3",
   "version": "3.10.8"
  }
 },
 "nbformat": 4,
 "nbformat_minor": 5
}
